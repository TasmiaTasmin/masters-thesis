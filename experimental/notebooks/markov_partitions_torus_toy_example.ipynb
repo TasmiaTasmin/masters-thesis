{
 "cells": [
  {
   "cell_type": "markdown",
   "metadata": {},
   "source": [
    "# Implement Torus Toy Example Chapter 2.4"
   ]
  },
  {
   "cell_type": "code",
   "execution_count": null,
   "metadata": {},
   "outputs": [],
   "source": [
    "import numpy as np\n",
    "import matplotlib.pyplot as plt"
   ]
  },
  {
   "cell_type": "markdown",
   "metadata": {},
   "source": [
    "## Define System's Dynamics in Euclidean Plane and on Torus"
   ]
  },
  {
   "cell_type": "code",
   "execution_count": null,
   "metadata": {},
   "outputs": [],
   "source": [
    "A = np.array([[1,1], [1,0]])"
   ]
  },
  {
   "cell_type": "code",
   "execution_count": null,
   "metadata": {},
   "outputs": [],
   "source": [
    "def phi(x: np.array) -> np.array:\n",
    "    x_new = np.dot(A, x) % 1\n",
    "    return x_new"
   ]
  },
  {
   "cell_type": "markdown",
   "metadata": {},
   "source": [
    "## Compute Eigendecomposition"
   ]
  },
  {
   "cell_type": "code",
   "execution_count": null,
   "metadata": {},
   "outputs": [],
   "source": [
    "# get eigenvalues and right eigenvectors, i.e. transposed eigenvectors\n",
    "eig_vals, eig_vects = np.linalg.eig(A)\n",
    "# retrieve eigenvectors from right eigenvectors\n",
    "eig_vects = np.transpose(eig_vects)"
   ]
  },
  {
   "cell_type": "code",
   "execution_count": null,
   "metadata": {},
   "outputs": [],
   "source": [
    "print(f\"Eigenvalues: {eig_vals}\")"
   ]
  },
  {
   "cell_type": "code",
   "execution_count": null,
   "metadata": {},
   "outputs": [],
   "source": [
    "print(f\"Eigenvectors: {eig_vects}\")"
   ]
  },
  {
   "cell_type": "markdown",
   "metadata": {},
   "source": [
    "## Analysis of Hyperbolicity and Invertibility"
   ]
  },
  {
   "cell_type": "code",
   "execution_count": null,
   "metadata": {},
   "outputs": [],
   "source": [
    "def is_hyperbolic(eig_vals: np.array) -> bool:\n",
    "    contr_seg = any(np.abs(eig_val) < 1 for eig_val in eig_vals)\n",
    "    exp_seg = any(np.abs(eig_val) > 1 for eig_val in eig_vals)\n",
    "\n",
    "    return contr_seg and exp_seg"
   ]
  },
  {
   "cell_type": "code",
   "execution_count": null,
   "metadata": {},
   "outputs": [],
   "source": [
    "system_hyperbolic = is_hyperbolic(eig_vals)\n",
    "print(f\"Dynamic system is hyperbolic: {system_hyperbolic}\")"
   ]
  },
  {
   "cell_type": "code",
   "execution_count": null,
   "metadata": {},
   "outputs": [],
   "source": [
    "def is_invertible(A: np.array) -> bool:\n",
    "    return np.abs(np.linalg.det(A)) == 1"
   ]
  },
  {
   "cell_type": "code",
   "execution_count": null,
   "metadata": {},
   "outputs": [],
   "source": [
    "system_invertible = is_invertible(A)\n",
    "print(f\"Dynamic system is invertble: {system_invertible}\")"
   ]
  },
  {
   "cell_type": "markdown",
   "metadata": {},
   "source": [
    "## Computation of Bases for Contracting and Expanding Segments "
   ]
  },
  {
   "cell_type": "code",
   "execution_count": null,
   "metadata": {},
   "outputs": [],
   "source": [
    "def expanding_segments(eig_vals: np.array, eig_vects: np.array) -> np.array:\n",
    "    exp_eig_spaces_msk = np.abs(eig_vals) > 1\n",
    "    print(exp_eig_spaces_msk)\n",
    "    return eig_vects[exp_eig_spaces_msk]"
   ]
  },
  {
   "cell_type": "code",
   "execution_count": null,
   "metadata": {},
   "outputs": [],
   "source": [
    "def contracting_segments(eig_vals: np.array, eig_vects: np.array) -> np.array:\n",
    "    exp_eig_spaces_msk = np.abs(eig_vals) < 1\n",
    "    print(exp_eig_spaces_msk)\n",
    "    return eig_vects[exp_eig_spaces_msk]"
   ]
  },
  {
   "cell_type": "code",
   "execution_count": null,
   "metadata": {},
   "outputs": [],
   "source": [
    "contr_segs = contracting_segments(eig_vals, eig_vects)\n",
    "print(f\"Contracting segments: {contr_segs}\")"
   ]
  },
  {
   "cell_type": "code",
   "execution_count": null,
   "metadata": {},
   "outputs": [],
   "source": [
    "exp_segs = expanding_segments(eig_vals, eig_vects)\n",
    "print(f\"Expanding segments: {exp_segs}\")"
   ]
  },
  {
   "cell_type": "markdown",
   "metadata": {},
   "source": [
    "## Translate between Euclidea Plane and Torus"
   ]
  },
  {
   "cell_type": "code",
   "execution_count": null,
   "metadata": {},
   "outputs": [],
   "source": [
    "def q(x: np.array) -> np.array:\n",
    "    return x % 1"
   ]
  },
  {
   "cell_type": "markdown",
   "metadata": {},
   "source": [
    "### Show Commutativity of Plane and Torus by q-Translation"
   ]
  },
  {
   "cell_type": "code",
   "execution_count": null,
   "metadata": {},
   "outputs": [],
   "source": [
    "# sample point in R^2 between -10 and 10\n",
    "x = np.random.uniform(low=-10, high=10, size=2)"
   ]
  },
  {
   "cell_type": "code",
   "execution_count": null,
   "metadata": {},
   "outputs": [],
   "source": [
    "# apply system's dynamics A in plane, then push down to torus by q\n",
    "plane_dynamics_result = q(np.dot(A, x))\n",
    "print(f\"Next point on torus: {plane_dynamics_result}\")"
   ]
  },
  {
   "cell_type": "code",
   "execution_count": null,
   "metadata": {},
   "outputs": [],
   "source": [
    "# push down point to torus, then apply system's dynamics phi on torus\n",
    "torus_dynamics_result = phi(q(x))\n",
    "print(f\"Next point on torus: {torus_dynamics_result}\")"
   ]
  },
  {
   "cell_type": "code",
   "execution_count": null,
   "metadata": {},
   "outputs": [],
   "source": [
    "if np.all(plane_dynamics_result == torus_dynamics_result):\n",
    "    print(f\"System dynamics in plane and on torus commute by q!\")\n",
    "else:\n",
    "    print(f\"System dynamics in plane and on torus do not commute by q!\")"
   ]
  },
  {
   "cell_type": "markdown",
   "metadata": {},
   "source": [
    "## Calculate Inetrsections between Lines"
   ]
  },
  {
   "cell_type": "code",
   "execution_count": null,
   "metadata": {},
   "outputs": [],
   "source": [
    "def perp(a) :\n",
    "    b = np.empty_like(a)\n",
    "    b[0] = -a[1]\n",
    "    b[1] = a[0]\n",
    "    return b\n",
    "\n",
    "# line segment a given by endpoints a1, a2\n",
    "# line segment b given by endpoints b1, b2\n",
    "def seg_intersect(a, b) :\n",
    "    a1, a2 = a\n",
    "    b1, b2 = b\n",
    "\n",
    "    da = a2 - a1\n",
    "    db = b2 - b1\n",
    "    dp = a1 - b1\n",
    "    dap = perp(da)\n",
    "    denom = np.dot(dap, db)\n",
    "    num = np.dot(dap, dp)\n",
    "\n",
    "    return (num / denom.astype(float))*db + b1"
   ]
  },
  {
   "cell_type": "markdown",
   "metadata": {},
   "source": [
    "## Construct Markov Partition over Trous for Toy Example"
   ]
  },
  {
   "cell_type": "code",
   "execution_count": null,
   "metadata": {},
   "outputs": [],
   "source": [
    "eig_vals_ratio = np.abs(eig_vals[0] / eig_vals[1])\n",
    "print(f\"Ratio of first to second eigenvalue {eig_vals_ratio}\")"
   ]
  },
  {
   "cell_type": "code",
   "execution_count": null,
   "metadata": {},
   "outputs": [],
   "source": [
    "v1 = eig_vects[0]\n",
    "v2 = eig_vects[1]"
   ]
  },
  {
   "cell_type": "code",
   "execution_count": null,
   "metadata": {},
   "outputs": [],
   "source": [
    "u1 = np.array([0,0])\n",
    "u2 = np.array([0,1])\n",
    "u3 = np.array([1,1])\n",
    "u4 = np.array([1,0])"
   ]
  },
  {
   "cell_type": "code",
   "execution_count": null,
   "metadata": {},
   "outputs": [],
   "source": [
    "lu1 = np.array([[0,0], [0,1]])\n",
    "lu2 = np.array([[0,1], [1,1]])\n",
    "lu3 = np.array([[1,1], [1,0]])\n",
    "lu4 = np.array([[1,0], [0,0]])"
   ]
  },
  {
   "cell_type": "code",
   "execution_count": null,
   "metadata": {},
   "outputs": [],
   "source": [
    "p1 = u1 + (1/v1[0]) * v1\n",
    "p2 = u2 - (1/v2[1]) * v2\n",
    "p3 = u3 - (1/v1[0]) * v1\n",
    "p4 = u4 + (1/v2[1]) * v2"
   ]
  },
  {
   "cell_type": "code",
   "execution_count": null,
   "metadata": {},
   "outputs": [],
   "source": [
    "l_00 = np.array([u1, p1])\n",
    "l_01 = np.array([u2, p2])\n",
    "l_10 = np.array([u4, p4])\n",
    "l_11 = np.array([u3, p3])"
   ]
  },
  {
   "cell_type": "code",
   "execution_count": null,
   "metadata": {},
   "outputs": [],
   "source": [
    "P1a = seg_intersect(l_00, l_01)\n",
    "P1b = seg_intersect(l_01, l_11)\n",
    "\n",
    "P3a = seg_intersect(l_10, l_00)\n",
    "\n",
    "symm_helper_x = seg_intersect(lu3, l_00)\n",
    "symm_helper_y = q(symm_helper_x)\n",
    "symm_helper_l00 = np.array([symm_helper_x, symm_helper_y])\n",
    "\n",
    "p1_symm = symm_helper_y + v1\n",
    "l_00_symm_extension = np.array([symm_helper_y, p1_symm])\n",
    "P3b = seg_intersect(l_00_symm_extension, l_01)\n",
    "l_00_symm_extension = np.array([symm_helper_y, P3b])"
   ]
  },
  {
   "cell_type": "code",
   "execution_count": null,
   "metadata": {},
   "outputs": [],
   "source": [
    "l_00 = np.array([u1, p1])\n",
    "l_01 = np.array([u2, P1a])\n",
    "l_10 = np.array([u4, P3a])\n",
    "l_11 = np.array([u3, P1b])"
   ]
  },
  {
   "cell_type": "code",
   "execution_count": null,
   "metadata": {},
   "outputs": [],
   "source": [
    "# plot unit square\n",
    "plt.plot(lu1[:, 0], lu1[:, 1], \"r-\")\n",
    "plt.plot(lu2[:, 0], lu2[:, 1], \"r-\")\n",
    "plt.plot(lu3[:, 0], lu3[:, 1], \"r-\")\n",
    "plt.plot(lu4[:, 0], lu4[:, 1], \"r-\")\n",
    "\n",
    "# step 1: plot l_00 in expanding direction \n",
    "plt.plot(l_00[:, 0], l_00[:, 1], \"b-\")\n",
    "\n",
    "# step 2: plot l_01 and l_10 in contracting directions\n",
    "plt.plot(l_01[:, 0], l_01[:, 1], \"b-\")\n",
    "plt.plot(l_10[:, 0], l_10[:, 1], \"b-\")\n",
    "\n",
    "# step 3: plot l_11 in expanding direction\n",
    "plt.plot(l_11[:, 0], l_11[:, 1], \"b-\")\n",
    "\n",
    "# step 4: plot symmetric extension of l_00 line\n",
    "plt.plot(symm_helper_l00[:, 0], symm_helper_l00[:, 1], \"m--\")\n",
    "plt.plot(l_00_symm_extension[:, 0], l_00_symm_extension[:, 1], \"b-\")\n",
    "\n",
    "# plot intersection points\n",
    "plt.plot(P1a[0], P1a[1], \"bo\")\n",
    "plt.plot(P1b[0], P1b[1], \"ro\")\n",
    "plt.plot(P3a[0], P3a[1], \"go\")\n",
    "plt.plot(P3b[0], P3b[1], \"yo\")\n",
    "\n",
    "plt.show()"
   ]
  },
  {
   "cell_type": "code",
   "execution_count": null,
   "metadata": {},
   "outputs": [],
   "source": [
    "phi(P3b)"
   ]
  },
  {
   "cell_type": "markdown",
   "metadata": {},
   "source": [
    "## Map Markov Partition over Torus to Euclidean Plane"
   ]
  },
  {
   "cell_type": "code",
   "execution_count": null,
   "metadata": {},
   "outputs": [],
   "source": [
    "P1c = u4 + l_00_symm_extension[1] + u1\n",
    "P2a = u3 + P3a - u4\n",
    "P3c = P3a - u4 + u1"
   ]
  },
  {
   "cell_type": "code",
   "execution_count": null,
   "metadata": {},
   "outputs": [],
   "source": [
    "# glue together the splitted rectangles over the unit square by identifying edges with each other\n",
    "P1 = np.array([P1a, P1b, u3, P1c, P1a])\n",
    "P2 = np.array([P1b, u2, P2a, u3, P1b])\n",
    "P3 = np.array([u1, P1a, P3b, P3c, u1])\n",
    "\n",
    "P = [P1, P2, P3]"
   ]
  },
  {
   "cell_type": "code",
   "execution_count": null,
   "metadata": {},
   "outputs": [],
   "source": [
    "for Pi in P:\n",
    "    for k in range(Pi.shape[0]-1):\n",
    "        plt.plot(Pi[k:k+2, 0], Pi[k:k+2, 1], \"b-\")\n",
    "\n",
    "plt.show()"
   ]
  },
  {
   "cell_type": "markdown",
   "metadata": {},
   "source": [
    "## Check Intersection Property"
   ]
  },
  {
   "cell_type": "code",
   "execution_count": null,
   "metadata": {},
   "outputs": [],
   "source": [
    "P1_phi = np.array([np.dot(A,P1a), np.dot(A,P1b), np.dot(A,u3), np.dot(A,P3b)+np.array([1,1]), np.dot(A,P1a)]) - np.array([1,0])"
   ]
  },
  {
   "cell_type": "code",
   "execution_count": null,
   "metadata": {},
   "outputs": [],
   "source": [
    "for Pi in P:\n",
    "    for k in range(Pi.shape[0]-1):\n",
    "        plt.plot(Pi[k:k+2, 0], Pi[k:k+2, 1], \"b-\")\n",
    "\n",
    "\n",
    "plt.fill(P1_phi[:,0], P1_phi[:,1], \"gray\", alpha=0.3)\n",
    "\n",
    "plt.show()"
   ]
  },
  {
   "cell_type": "code",
   "execution_count": null,
   "metadata": {},
   "outputs": [],
   "source": [
    "P2_phi = np.array([np.dot(A, P1b)-np.array([1,0]), np.dot(A,u1), np.dot(A,P3a), np.dot(A,u4)])\n",
    "P3_phi = np.array([np.dot(A, u1)+np.array([0,1]), np.dot(A, P3a)-np.array([1,0]), np.dot(A, P3b)+np.array([0,1]), np.dot(A, P1a)+np.array([0,1]), np.dot(A, u1)+np.array([0,1])])"
   ]
  },
  {
   "cell_type": "code",
   "execution_count": null,
   "metadata": {},
   "outputs": [],
   "source": [
    "for Pi in P:\n",
    "    for k in range(Pi.shape[0]-1):\n",
    "        plt.plot(Pi[k:k+2, 0], Pi[k:k+2, 1], \"b-\")\n",
    "\n",
    "\n",
    "plt.fill(P2_phi[:,0], P2_phi[:,1], \"gray\", alpha=0.3)\n",
    "plt.fill(P3_phi[:, 0], P3_phi[:, 1], \"gray\", alpha=0.3)\n",
    "\n",
    "plt.show()"
   ]
  },
  {
   "cell_type": "markdown",
   "metadata": {},
   "source": [
    "## Repeat Construction and Start in Second Unstable Branch"
   ]
  },
  {
   "cell_type": "code",
   "execution_count": null,
   "metadata": {},
   "outputs": [],
   "source": [
    "u1 = np.array([0,0])\n",
    "u2 = np.array([0,1])\n",
    "u3 = np.array([1,1])\n",
    "u4 = np.array([1,0])"
   ]
  },
  {
   "cell_type": "code",
   "execution_count": null,
   "metadata": {},
   "outputs": [],
   "source": [
    "lu1 = np.array([[0,0], [0,1]])\n",
    "lu2 = np.array([[0,1], [1,1]])\n",
    "lu3 = np.array([[1,1], [1,0]])\n",
    "lu4 = np.array([[1,0], [0,0]])"
   ]
  },
  {
   "cell_type": "code",
   "execution_count": null,
   "metadata": {},
   "outputs": [],
   "source": [
    "p1 = u1 + (1/v1[0]) * v1\n",
    "p2 = u2 - (1/v2[1]) * v2\n",
    "p3 = u3 - (1/v1[0]) * v1\n",
    "p4 = u4 + (1/v2[1]) * v2"
   ]
  },
  {
   "cell_type": "code",
   "execution_count": null,
   "metadata": {},
   "outputs": [],
   "source": [
    "l_00 = np.array([u1, p1])\n",
    "l_01 = np.array([u2, p2])\n",
    "l_10 = np.array([u4, p4])\n",
    "l_11 = np.array([u3, p3])"
   ]
  },
  {
   "cell_type": "code",
   "execution_count": null,
   "metadata": {},
   "outputs": [],
   "source": [
    "P1a = seg_intersect(l_11, l_01)\n",
    "P1b = seg_intersect(l_10, l_00)\n",
    "\n",
    "P3a = seg_intersect(l_10, l_11)\n",
    "\n",
    "symm_helper_x = seg_intersect(lu1, l_11)\n",
    "symm_helper_y = symm_helper_x + np.array([1,0])\n",
    "symm_helper_l11 = np.array([symm_helper_x, symm_helper_y])\n",
    "\n",
    "p1_symm = symm_helper_y + v1\n",
    "l_11_symm_extension = np.array([symm_helper_y, p1_symm])\n",
    "P3b = seg_intersect(l_11_symm_extension, l_10)\n",
    "l_11_symm_extension = np.array([symm_helper_y, P3b])"
   ]
  },
  {
   "cell_type": "code",
   "execution_count": null,
   "metadata": {},
   "outputs": [],
   "source": [
    "l_00 = np.array([u1, P1b])\n",
    "l_01 = np.array([u2, P1a])\n",
    "l_10 = np.array([u4, P3a])\n",
    "l_11 = np.array([u3, p3])"
   ]
  },
  {
   "cell_type": "code",
   "execution_count": null,
   "metadata": {},
   "outputs": [],
   "source": [
    "# plot unit square\n",
    "plt.plot(lu1[:, 0], lu1[:, 1], \"r-\")\n",
    "plt.plot(lu2[:, 0], lu2[:, 1], \"r-\")\n",
    "plt.plot(lu3[:, 0], lu3[:, 1], \"r-\")\n",
    "plt.plot(lu4[:, 0], lu4[:, 1], \"r-\")\n",
    "\n",
    "# step 1: plot l_11 in expanding direction\n",
    "plt.plot(l_11[:, 0], l_11[:, 1], \"b-\")\n",
    "\n",
    "# step 2: plot l_01 and l_10 in contracting directions\n",
    "plt.plot(l_01[:, 0], l_01[:, 1], \"b-\")\n",
    "plt.plot(l_10[:, 0], l_10[:, 1], \"b-\")\n",
    "\n",
    "# step 3: plot l_00 in expanding direction \n",
    "plt.plot(l_00[:, 0], l_00[:, 1], \"b-\")\n",
    "\n",
    "# step 4: plot symmetric extension of l_11 line\n",
    "plt.plot(symm_helper_l11[:, 0], symm_helper_l11[:, 1], \"m--\")\n",
    "plt.plot(l_11_symm_extension[:, 0], l_11_symm_extension[:, 1], \"b-\")\n",
    "\n",
    "# plot intersection points\n",
    "plt.plot(P1a[0], P1a[1], \"bo\")\n",
    "plt.plot(P1b[0], P1b[1], \"ro\")\n",
    "plt.plot(P3a[0], P3a[1], \"go\")\n",
    "plt.plot(P3b[0], P3b[1], \"yo\")\n",
    "\n",
    "plt.show()"
   ]
  },
  {
   "cell_type": "markdown",
   "metadata": {},
   "source": [
    "## Map Mirrored Markov Partition over Torus to Euclidean Plane"
   ]
  },
  {
   "cell_type": "code",
   "execution_count": null,
   "metadata": {},
   "outputs": [],
   "source": [
    "P1c = u1 - l_00_symm_extension[1]\n",
    "P2a = u3 + P3a - u4\n",
    "P3c = P3a - u4 + u1"
   ]
  },
  {
   "cell_type": "code",
   "execution_count": null,
   "metadata": {},
   "outputs": [],
   "source": [
    "# glue together the splitted rectangles over the unit square by identifying edges with each other\n",
    "P1 = np.array([P3a, P1b, u1, P3b - u4, P3a])\n",
    "P2 = np.array([u1, P1b, u4, P1a - u2, u1])\n",
    "P3 = np.array([P3a, u3, u4+P1a, P3b, P3a])\n",
    "\n",
    "P = [P1, P2, P3]"
   ]
  },
  {
   "cell_type": "code",
   "execution_count": null,
   "metadata": {},
   "outputs": [],
   "source": [
    "for Pi in P:\n",
    "    for k in range(Pi.shape[0]-1):\n",
    "        plt.plot(Pi[k:k+2, 0], Pi[k:k+2, 1], \"b-\")\n",
    "\n",
    "plt.show()"
   ]
  },
  {
   "cell_type": "markdown",
   "metadata": {},
   "source": [
    "## Check Intersection Property"
   ]
  },
  {
   "cell_type": "code",
   "execution_count": null,
   "metadata": {},
   "outputs": [],
   "source": [
    "P1_phi = np.array([np.dot(A,P3a), np.dot(A,P1b), np.dot(A,u1), np.dot(A, P3b) - np.array([1,1]), np.dot(A,P3a)])"
   ]
  },
  {
   "cell_type": "code",
   "execution_count": null,
   "metadata": {},
   "outputs": [],
   "source": [
    "for Pi in P:\n",
    "    for k in range(Pi.shape[0]-1):\n",
    "        plt.plot(Pi[k:k+2, 0], Pi[k:k+2, 1], \"b-\")\n",
    "\n",
    "plt.fill(P1_phi[:,0], P1_phi[:,1], \"gray\", alpha=0.3)\n",
    "\n",
    "plt.show()"
   ]
  },
  {
   "cell_type": "code",
   "execution_count": null,
   "metadata": {},
   "outputs": [],
   "source": [
    "P2_phi = np.array([np.dot(A,P1a)-np.array([1,0]), np.dot(A,u2)-np.array([1,0]), np.dot(A,P1b), np.dot(A, u4), np.dot(A,P1a)-np.array([1,0])])\n",
    "P3_phi = np.array([np.dot(A, P3b)-np.array([1,1]), np.dot(A,P3a)-np.array([1,1]), np.dot(A,u2), np.dot(A,P1a), np.dot(A,P3b)-np.array([1,1])])"
   ]
  },
  {
   "cell_type": "code",
   "execution_count": null,
   "metadata": {},
   "outputs": [],
   "source": [
    "for Pi in P:\n",
    "    for k in range(Pi.shape[0]-1):\n",
    "        plt.plot(Pi[k:k+2, 0], Pi[k:k+2, 1], \"b-\")\n",
    "\n",
    "plt.fill(P2_phi[:,0], P2_phi[:,1], \"gray\", alpha=0.3)\n",
    "plt.fill(P3_phi[:,0], P3_phi[:,1], \"gray\", alpha=0.3)\n",
    "\n",
    "plt.show()"
   ]
  },
  {
   "cell_type": "markdown",
   "metadata": {},
   "source": [
    "## Start Construction with Unstable Branch"
   ]
  },
  {
   "cell_type": "code",
   "execution_count": null,
   "metadata": {},
   "outputs": [],
   "source": [
    "u1 = np.array([0,0])\n",
    "u2 = np.array([0,1])\n",
    "u3 = np.array([1,1])\n",
    "u4 = np.array([1,0])"
   ]
  },
  {
   "cell_type": "code",
   "execution_count": null,
   "metadata": {},
   "outputs": [],
   "source": [
    "lu1 = np.array([[0,0], [0,1]])\n",
    "lu2 = np.array([[0,1], [1,1]])\n",
    "lu3 = np.array([[1,1], [1,0]])\n",
    "lu4 = np.array([[1,0], [0,0]])"
   ]
  },
  {
   "cell_type": "code",
   "execution_count": null,
   "metadata": {},
   "outputs": [],
   "source": [
    "p1 = u1 + (1/v1[0]) * v1\n",
    "p2 = u2 - (1/v2[1]) * v2\n",
    "p3 = u3 - (1/v1[0]) * v1\n",
    "p4 = u4 + (1/v2[1]) * v2"
   ]
  },
  {
   "cell_type": "code",
   "execution_count": null,
   "metadata": {},
   "outputs": [],
   "source": [
    "l_00 = np.array([u1, p1])\n",
    "l_01 = np.array([u2, p2])\n",
    "l_10 = np.array([u4, p4])\n",
    "l_11 = np.array([u3, p3])"
   ]
  },
  {
   "cell_type": "code",
   "execution_count": null,
   "metadata": {},
   "outputs": [],
   "source": [
    "P1a = seg_intersect(l_00, l_01)\n",
    "P1b = seg_intersect(l_10, l_00)\n",
    "\n",
    "P3a = seg_intersect(l_10, l_11)\n",
    "\n",
    "symm_helper_x = seg_intersect(lu2, l_10)\n",
    "symm_helper_y = symm_helper_x - np.array([0,1])\n",
    "symm_helper_l11 = np.array([symm_helper_x, symm_helper_y])\n",
    "\n",
    "p1_symm = symm_helper_y + v2\n",
    "l_10_symm_extension = np.array([symm_helper_y, p1_symm])\n",
    "P3b = seg_intersect(l_10_symm_extension, l_00)\n",
    "l_10_symm_extension = np.array([symm_helper_y, P3b])"
   ]
  },
  {
   "cell_type": "code",
   "execution_count": null,
   "metadata": {},
   "outputs": [],
   "source": [
    "l_00 = np.array([u1, P1b])\n",
    "l_01 = np.array([u2, P1a])\n",
    "l_10 = np.array([u4, p4])\n",
    "l_11 = np.array([u3, P3a])"
   ]
  },
  {
   "cell_type": "code",
   "execution_count": null,
   "metadata": {},
   "outputs": [],
   "source": [
    "# plot unit square\n",
    "plt.plot(lu1[:, 0], lu1[:, 1], \"r-\")\n",
    "plt.plot(lu2[:, 0], lu2[:, 1], \"r-\")\n",
    "plt.plot(lu3[:, 0], lu3[:, 1], \"r-\")\n",
    "plt.plot(lu4[:, 0], lu4[:, 1], \"r-\")\n",
    "\n",
    "# step 1: plot l_10 in contracting direction\n",
    "plt.plot(l_10[:, 0], l_10[:, 1], \"b-\")\n",
    "\n",
    "# step 2: plot l_00 and l_11 in expanding directions\n",
    "plt.plot(l_00[:, 0], l_00[:, 1], \"b-\")\n",
    "plt.plot(l_11[:, 0], l_11[:, 1], \"b-\")\n",
    "\n",
    "# step 3: plot l_01 in contracting direction \n",
    "plt.plot(l_01[:, 0], l_01[:, 1], \"b-\")\n",
    "\n",
    "# step 4: plot symmetric extension of l_01 line\n",
    "plt.plot(symm_helper_l11[:, 0], symm_helper_l11[:, 1], \"m--\")\n",
    "plt.plot(l_10_symm_extension[:, 0], l_10_symm_extension[:, 1], \"b-\")\n",
    "\n",
    "# plot intersection points\n",
    "plt.plot(P1a[0], P1a[1], \"bo\")\n",
    "plt.plot(P1b[0], P1b[1], \"ro\")\n",
    "plt.plot(P3a[0], P3a[1], \"go\")\n",
    "plt.plot(P3b[0], P3b[1], \"yo\")\n",
    "\n",
    "plt.show()"
   ]
  },
  {
   "cell_type": "markdown",
   "metadata": {},
   "source": [
    "## Map Markov Partition over Torus to Euclidean Plane"
   ]
  },
  {
   "cell_type": "code",
   "execution_count": null,
   "metadata": {},
   "outputs": [],
   "source": [
    "# glue together the splitted rectangles over the unit square by identifying edges with each other\n",
    "P1 = np.array([u2, P3b+np.array([0,1]), P1b, P1a, u2])\n",
    "P2 = np.array([P3a, u3, P1a+np.array([1,0]), u4, P3a])\n",
    "P3 = np.array([P3a, P3b+np.array([0,1]), P1b+np.array([0,1]), u3, P3a])\n",
    "\n",
    "P = [P1, P2, P3]"
   ]
  },
  {
   "cell_type": "code",
   "execution_count": null,
   "metadata": {},
   "outputs": [],
   "source": [
    "for Pi in P:\n",
    "    for k in range(Pi.shape[0]-1):\n",
    "        plt.plot(Pi[k:k+2, 0], Pi[k:k+2, 1], \"b-\")\n",
    "\n",
    "plt.show()"
   ]
  },
  {
   "cell_type": "markdown",
   "metadata": {},
   "source": [
    "## Check Intersection Property"
   ]
  },
  {
   "cell_type": "code",
   "execution_count": null,
   "metadata": {},
   "outputs": [],
   "source": [
    "P1_phi = np.array([phi(P1a), u4, phi(P3b)+np.array([1,0]), phi(P1b)+np.array([1,0]), phi(P1a)])\n",
    "P2_phi = np.array([phi(u1)+np.array([1,1]), phi(P3a), phi(u3)+np.array([0,1]), phi(P1a)+np.array([0,1]), phi(u1)+np.array([1,1])])\n",
    "P3_phi = np.array([phi(P3b), phi(P1b)+np.array([1,0]), phi(u4)+np.array([1,1]), phi(P3a), phi(P3b)])"
   ]
  },
  {
   "cell_type": "code",
   "execution_count": null,
   "metadata": {},
   "outputs": [],
   "source": [
    "for Pi in P:\n",
    "    for k in range(Pi.shape[0]-1):\n",
    "        plt.plot(Pi[k:k+2, 0], Pi[k:k+2, 1], \"b-\")\n",
    "\n",
    "plt.fill(P1_phi[:,0], P1_phi[:,1], \"gray\", alpha=0.3)\n",
    "plt.fill(P2_phi[:,0], P2_phi[:,1], \"gray\", alpha=0.3)\n",
    "\n",
    "plt.show()"
   ]
  },
  {
   "cell_type": "code",
   "execution_count": null,
   "metadata": {},
   "outputs": [],
   "source": [
    "for Pi in P:\n",
    "    for k in range(Pi.shape[0]-1):\n",
    "        plt.plot(Pi[k:k+2, 0], Pi[k:k+2, 1], \"b-\")\n",
    "\n",
    "plt.fill(P3_phi[:,0], P3_phi[:,1], \"gray\", alpha=0.3)\n",
    "\n",
    "plt.show()"
   ]
  },
  {
   "cell_type": "markdown",
   "metadata": {},
   "source": [
    "## Estimate Transition Probability Kernel"
   ]
  },
  {
   "cell_type": "code",
   "execution_count": null,
   "metadata": {},
   "outputs": [],
   "source": [
    "from shapely.geometry import Polygon, MultiPolygon, Point\n",
    "from typing import List, Optional"
   ]
  },
  {
   "cell_type": "code",
   "execution_count": null,
   "metadata": {},
   "outputs": [],
   "source": [
    "P1A = Polygon([P1a, u1, u2])\n",
    "P1B = Polygon([P3a, u3, u4])\n",
    "P1 = MultiPolygon([P1A, P1B])"
   ]
  },
  {
   "cell_type": "code",
   "execution_count": null,
   "metadata": {},
   "outputs": [],
   "source": [
    "P2A = Polygon([P3b, u1, symm_helper_l11[1]])\n",
    "P2B = Polygon([symm_helper_l11[0], u2, P1a, P1b])\n",
    "P2 = MultiPolygon([P2A, P2B])"
   ]
  },
  {
   "cell_type": "code",
   "execution_count": null,
   "metadata": {},
   "outputs": [],
   "source": [
    "P3A = Polygon([P1b, u4, symm_helper_l11[1], P3b])\n",
    "P3B = Polygon([symm_helper_l11[0], u3, P3a])\n",
    "P3 = MultiPolygon([P3A, P3B])"
   ]
  },
  {
   "cell_type": "code",
   "execution_count": null,
   "metadata": {},
   "outputs": [],
   "source": [
    "partition = [P1, P2, P3]"
   ]
  },
  {
   "cell_type": "code",
   "execution_count": null,
   "metadata": {},
   "outputs": [],
   "source": [
    "MultiPolygon([P1A, P1B, P2A, P2B, P3A, P3B])"
   ]
  },
  {
   "cell_type": "markdown",
   "metadata": {},
   "source": [
    "## Monte Carlo Algorithm 5"
   ]
  },
  {
   "cell_type": "code",
   "execution_count": null,
   "metadata": {},
   "outputs": [],
   "source": [
    "def estimate_probability_matrix_algo5(phi: callable, partition: List[MultiPolygon], c: int=10, tau: float=0.001):\n",
    "    n = len(partition)\n",
    "    P = np.zeros((n, n))\n",
    "    P_old = np.ones((n, n))\n",
    "    C = np.zeros((n, n))\n",
    "\n",
    "    for i in range(n):\n",
    "        samples = 0\n",
    "        while np.max(np.abs(P[i, :] - P_old[i, :])) >= tau:\n",
    "            p = sample_uniform_random_point(partition[i])\n",
    "            k = get_subset_index_of_point(Point(phi(p)), partition)\n",
    "            assert k is not None, f\"Error: Cannot find respective subset of {p}\"\n",
    "            C[i,k] = C[i,k] + 1\n",
    "            samples = samples + 1\n",
    "            if samples % c == 0:\n",
    "                P_old[i, :] = P[i, :]\n",
    "                P[i, :] = C[i, :] / np.linalg.norm(C[i, :], ord=1)\n",
    "\n",
    "    return P"
   ]
  },
  {
   "cell_type": "code",
   "execution_count": null,
   "metadata": {},
   "outputs": [],
   "source": [
    "def sample_uniform_random_point(area: MultiPolygon):\n",
    "    min_x, min_y, max_x, max_y = area.bounds\n",
    "    point = Point([np.random.uniform(min_x, max_x), np.random.uniform(min_y, max_y)])\n",
    "    while not point.intersects(area):\n",
    "        point = Point([np.random.uniform(min_x, max_x), np.random.uniform(min_y, max_y)])\n",
    "\n",
    "    return point"
   ]
  },
  {
   "cell_type": "code",
   "execution_count": null,
   "metadata": {},
   "outputs": [],
   "source": [
    "def get_subset_index_of_point(point: Point, partition: List[MultiPolygon]) -> Optional[int]:\n",
    "    n = len(partition)\n",
    "    for k in range(n):\n",
    "        if point.intersects(partition[k]):\n",
    "            return k\n",
    "    return None"
   ]
  },
  {
   "cell_type": "code",
   "execution_count": null,
   "metadata": {},
   "outputs": [],
   "source": [
    "estimate_probability_matrix_algo5(phi, partition, c=1000, tau=0.001)"
   ]
  }
 ],
 "metadata": {
  "kernelspec": {
   "display_name": "Python 3",
   "language": "python",
   "name": "python3"
  },
  "language_info": {
   "codemirror_mode": {
    "name": "ipython",
    "version": 3
   },
   "file_extension": ".py",
   "mimetype": "text/x-python",
   "name": "python",
   "nbconvert_exporter": "python",
   "pygments_lexer": "ipython3",
   "version": "3.6.9"
  }
 },
 "nbformat": 4,
 "nbformat_minor": 4
}
