{
 "cells": [
  {
   "cell_type": "code",
   "execution_count": null,
   "metadata": {},
   "outputs": [],
   "source": [
    "import numpy as np\n",
    "import matplotlib.pyplot as plt"
   ]
  },
  {
   "cell_type": "markdown",
   "metadata": {},
   "source": [
    "## Approximate pi with Monte Carlo Method"
   ]
  },
  {
   "cell_type": "code",
   "execution_count": null,
   "metadata": {},
   "outputs": [],
   "source": [
    "num_points = np.logspace(start=2, stop=4, num=5)\n",
    "estimate_errors = []\n",
    "for n in num_points:\n",
    "    n = int(n)\n",
    "    rand_points = np.random.uniform(low=0, high=1, size=2*n).reshape((n, 2))\n",
    "    rand_points_in_unit_sphere = np.linalg.norm(rand_points, ord=2, axis=1) <= 1\n",
    "\n",
    "    pi_estimate = 4 * (rand_points_in_unit_sphere.sum() / n)\n",
    "    estimate_error = np.abs(np.pi - pi_estimate)\n",
    "    estimate_errors.append(estimate_error)\n",
    "    print(f\"Number of sampled points: {n}\")\n",
    "    print(f\"Estimate of Pi: {pi_estimate}\")\n",
    "    print(f\"Error in estimate: {estimate_error}\")\n",
    "\n",
    "    colors = np.array([\"b\"] * n)\n",
    "    colors[rand_points_in_unit_sphere] = \"r\"\n",
    "    plt.scatter(rand_points[:, 0], rand_points[:, 1], c=colors)\n",
    "    plt.show()"
   ]
  },
  {
   "cell_type": "code",
   "execution_count": null,
   "metadata": {},
   "outputs": [],
   "source": [
    "plt.plot(num_points, np.array(estimate_errors))\n",
    "plt.xlabel(\"Number of Points\")\n",
    "plt.ylabel(\"Error of Estimation\")"
   ]
  },
  {
   "cell_type": "code",
   "execution_count": null,
   "metadata": {},
   "outputs": [],
   "source": []
  }
 ],
 "metadata": {
  "kernelspec": {
   "display_name": "Python 3",
   "language": "python",
   "name": "python3"
  },
  "language_info": {
   "codemirror_mode": {
    "name": "ipython",
    "version": 3
   },
   "file_extension": ".py",
   "mimetype": "text/x-python",
   "name": "python",
   "nbconvert_exporter": "python",
   "pygments_lexer": "ipython3",
   "version": "3.7.3"
  }
 },
 "nbformat": 4,
 "nbformat_minor": 2
}
