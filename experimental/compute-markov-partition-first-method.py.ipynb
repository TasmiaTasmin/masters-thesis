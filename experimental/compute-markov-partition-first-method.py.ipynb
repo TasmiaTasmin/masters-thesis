{
 "cells": [
  {
   "cell_type": "markdown",
   "metadata": {},
   "source": [
    "# Implementation of Markov Partition Construction Algorithm in Chapter 4.2"
   ]
  },
  {
   "cell_type": "code",
   "execution_count": null,
   "metadata": {},
   "outputs": [],
   "source": [
    "import numpy as np\n",
    "import matplotlib.pyplot as plt\n",
    "from scipy import optimize"
   ]
  },
  {
   "cell_type": "markdown",
   "metadata": {},
   "source": [
    "## Define System's Dynamics in Euclidean Plane and on Torus"
   ]
  },
  {
   "cell_type": "code",
   "execution_count": null,
   "metadata": {},
   "outputs": [],
   "source": [
    "A = np.array([[1,1], [1,0]])"
   ]
  },
  {
   "cell_type": "code",
   "execution_count": null,
   "metadata": {},
   "outputs": [],
   "source": [
    "def phi(x: np.array) -> np.array:\n",
    "    x_new = np.dot(A, x) % 1\n",
    "    return x_new"
   ]
  },
  {
   "cell_type": "markdown",
   "metadata": {},
   "source": [
    "## Compute Eigendecomposition"
   ]
  },
  {
   "cell_type": "code",
   "execution_count": null,
   "metadata": {},
   "outputs": [],
   "source": [
    "# get eigenvalues and right eigenvectors, i.e. transposed eigenvectors\n",
    "eig_vals, eig_vects = np.linalg.eig(A)\n",
    "# retrieve eigenvectors from right eigenvectors\n",
    "eig_vects = np.transpose(eig_vects)"
   ]
  },
  {
   "cell_type": "code",
   "execution_count": null,
   "metadata": {},
   "outputs": [],
   "source": [
    "origin = [0], [0]\n",
    "plt.quiver(*origin, eig_vects[:,0], eig_vects[:,1], color=['r','b'], scale=3)\n",
    "plt.show()"
   ]
  },
  {
   "cell_type": "code",
   "execution_count": null,
   "metadata": {},
   "outputs": [],
   "source": [
    "print(f\"Eigenvalues: {eig_vals}\")"
   ]
  },
  {
   "cell_type": "code",
   "execution_count": null,
   "metadata": {},
   "outputs": [],
   "source": [
    "print(f\"Eigenvectors: {eig_vects}\")"
   ]
  },
  {
   "cell_type": "markdown",
   "metadata": {},
   "source": [
    "## Analysis of Hyperbolicity and Invertibility"
   ]
  },
  {
   "cell_type": "code",
   "execution_count": null,
   "metadata": {},
   "outputs": [],
   "source": [
    "def is_hyperbolic(eig_vals: np.array) -> bool:\n",
    "    contr_seg = any(np.abs(eig_val) < 1 for eig_val in eig_vals)\n",
    "    exp_seg = any(np.abs(eig_val) > 1 for eig_val in eig_vals)\n",
    "\n",
    "    return contr_seg and exp_seg"
   ]
  },
  {
   "cell_type": "code",
   "execution_count": null,
   "metadata": {},
   "outputs": [],
   "source": [
    "system_hyperbolic = is_hyperbolic(eig_vals)\n",
    "print(f\"Dynamic system is hyperbolic: {system_hyperbolic}\")"
   ]
  },
  {
   "cell_type": "code",
   "execution_count": null,
   "metadata": {},
   "outputs": [],
   "source": [
    "def is_invertible(A: np.array) -> bool:\n",
    "    return np.abs(np.linalg.det(A)) == 1"
   ]
  },
  {
   "cell_type": "code",
   "execution_count": null,
   "metadata": {},
   "outputs": [],
   "source": [
    "system_invertible = is_invertible(A)\n",
    "print(f\"Dynamic system is invertble: {system_invertible}\")"
   ]
  },
  {
   "cell_type": "markdown",
   "metadata": {},
   "source": [
    "## Computation of Bases for Contracting and Expanding Segments "
   ]
  },
  {
   "cell_type": "code",
   "execution_count": null,
   "metadata": {},
   "outputs": [],
   "source": [
    "def expanding_segments(eig_vals: np.array, eig_vects: np.array) -> np.array:\n",
    "    exp_eig_spaces_msk = np.abs(eig_vals) > 1\n",
    "    print(exp_eig_spaces_msk)\n",
    "    return eig_vects[exp_eig_spaces_msk]"
   ]
  },
  {
   "cell_type": "code",
   "execution_count": null,
   "metadata": {},
   "outputs": [],
   "source": [
    "def contracting_segments(eig_vals: np.array, eig_vects: np.array) -> np.array:\n",
    "    contr_eig_spaces_msk = np.abs(eig_vals) < 1\n",
    "    print(contr_eig_spaces_msk)\n",
    "    return eig_vects[contr_eig_spaces_msk]"
   ]
  },
  {
   "cell_type": "code",
   "execution_count": null,
   "metadata": {},
   "outputs": [],
   "source": [
    "contr_segs = contracting_segments(eig_vals, eig_vects)\n",
    "print(f\"Contracting segments: {contr_segs}\")"
   ]
  },
  {
   "cell_type": "code",
   "execution_count": null,
   "metadata": {},
   "outputs": [],
   "source": [
    "exp_segs = expanding_segments(eig_vals, eig_vects)\n",
    "print(f\"Expanding segments: {exp_segs}\")"
   ]
  },
  {
   "cell_type": "markdown",
   "metadata": {},
   "source": [
    "## Translate between Euclidea Plane and Torus"
   ]
  },
  {
   "cell_type": "code",
   "execution_count": null,
   "metadata": {},
   "outputs": [],
   "source": [
    "def q(x: np.array) -> np.array:\n",
    "    return x % 1"
   ]
  },
  {
   "cell_type": "code",
   "execution_count": null,
   "metadata": {},
   "outputs": [],
   "source": [
    "# sample point in R^2 between -10 and 10\n",
    "x = np.random.uniform(low=-10, high=10, size=2)"
   ]
  },
  {
   "cell_type": "code",
   "execution_count": null,
   "metadata": {},
   "outputs": [],
   "source": [
    "# apply system's dynamics A in plane, then push down to torus by q\n",
    "plane_dynamics_result = q(np.dot(A, x))\n",
    "print(f\"Next point on torus: {plane_dynamics_result}\")"
   ]
  },
  {
   "cell_type": "code",
   "execution_count": null,
   "metadata": {},
   "outputs": [],
   "source": [
    "# push down point to torus, then apply system's dynamics phi on torus\n",
    "torus_dynamics_result = phi(q(x))\n",
    "print(f\"Next point on torus: {torus_dynamics_result}\")"
   ]
  },
  {
   "cell_type": "code",
   "execution_count": null,
   "metadata": {},
   "outputs": [],
   "source": [
    "if np.all(plane_dynamics_result == torus_dynamics_result):\n",
    "    print(f\"System dynamics in plane and on torus commute by q!\")\n",
    "else:\n",
    "    print(f\"System dynamics in plane and on torus do not commute by q!\")"
   ]
  },
  {
   "cell_type": "markdown",
   "metadata": {},
   "source": [
    "## Calculate Inetrsections between Lines"
   ]
  },
  {
   "cell_type": "code",
   "execution_count": null,
   "metadata": {},
   "outputs": [],
   "source": [
    "def perp(a) :\n",
    "    b = np.empty_like(a)\n",
    "    b[0] = -a[1]\n",
    "    b[1] = a[0]\n",
    "    return b\n",
    "\n",
    "# line segment a given by endpoints a1, a2\n",
    "# line segment b given by endpoints b1, b2\n",
    "def seg_intersect(a, b) :\n",
    "    a1, a2 = a\n",
    "    b1, b2 = b\n",
    "\n",
    "    da = a2 - a1\n",
    "    db = b2 - b1\n",
    "    dp = a1 - b1\n",
    "    dap = perp(da)\n",
    "    denom = np.dot(dap, db)\n",
    "    num = np.dot(dap, dp)\n",
    "\n",
    "    return (num / denom.astype(float))*db + b1"
   ]
  },
  {
   "cell_type": "markdown",
   "metadata": {},
   "source": [
    "## Calculate Hyperbolic Fixed Point"
   ]
  },
  {
   "cell_type": "code",
   "execution_count": null,
   "metadata": {},
   "outputs": [],
   "source": [
    "# reformulate fixed point problem Ax = x as root finding problem Ax-x = 0\n",
    "def objective_func(x: np.array) -> np.array:\n",
    "    return np.dot(A, x) - x"
   ]
  },
  {
   "cell_type": "code",
   "execution_count": null,
   "metadata": {},
   "outputs": [],
   "source": [
    "# function that calculates jacobian of objective function, namely D(Ax-x) = A-I\n",
    "def jac(x: np.array) -> np.array:\n",
    "    return A - np.identity(n=2)"
   ]
  },
  {
   "cell_type": "code",
   "execution_count": null,
   "metadata": {},
   "outputs": [],
   "source": [
    "# find roots of objective function with Levenberg-Marquardt algorithm\n",
    "root_sol = optimize.root(objective_func, np.array([1,2]), jac=jac, method=\"lm\")\n",
    "if not root_sol.success:\n",
    "    print(f\"Failed to find a fixed point. Error: {root_sol.message}\")\n",
    "else:\n",
    "    fixed_point = root_sol.x\n",
    "    print(f\"Fixed point: {fixed_point}\")"
   ]
  }
 ],
 "metadata": {
  "kernelspec": {
   "display_name": "Python 3",
   "language": "python",
   "name": "python3"
  },
  "language_info": {
   "codemirror_mode": {
    "name": "ipython",
    "version": 3
   },
   "file_extension": ".py",
   "mimetype": "text/x-python",
   "name": "python",
   "nbconvert_exporter": "python",
   "pygments_lexer": "ipython3",
   "version": "3.7.3"
  }
 },
 "nbformat": 4,
 "nbformat_minor": 2
}
