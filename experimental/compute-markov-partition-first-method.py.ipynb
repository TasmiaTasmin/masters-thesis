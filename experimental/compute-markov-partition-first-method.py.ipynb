{
 "cells": [
  {
   "cell_type": "markdown",
   "metadata": {},
   "source": [
    "# Implementation of Markov Partition Construction Algorithm in Chapter 4.2"
   ]
  },
  {
   "cell_type": "code",
   "execution_count": null,
   "metadata": {},
   "outputs": [],
   "source": [
    "import numpy as np\n",
    "import matplotlib.pyplot as plt\n",
    "from scipy import optimize"
   ]
  },
  {
   "cell_type": "markdown",
   "metadata": {},
   "source": [
    "## Define System's Dynamics in Euclidean Plane and on Torus"
   ]
  },
  {
   "cell_type": "code",
   "execution_count": null,
   "metadata": {},
   "outputs": [],
   "source": [
    "A = np.array([[1,1], [1,0]])\n",
    "A"
   ]
  },
  {
   "cell_type": "code",
   "execution_count": null,
   "metadata": {},
   "outputs": [],
   "source": [
    "def phi(x: np.array) -> np.array:\n",
    "    x_new = np.dot(A, x) % 1\n",
    "    return x_new"
   ]
  },
  {
   "cell_type": "markdown",
   "metadata": {},
   "source": [
    "## Compute Eigendecomposition"
   ]
  },
  {
   "cell_type": "code",
   "execution_count": null,
   "metadata": {},
   "outputs": [],
   "source": [
    "# get eigenvalues and right eigenvectors, i.e. transposed eigenvectors\n",
    "eig_vals, eig_vects = np.linalg.eig(A)\n",
    "# retrieve eigenvectors from right eigenvectors\n",
    "eig_vects = np.transpose(eig_vects)"
   ]
  },
  {
   "cell_type": "code",
   "execution_count": null,
   "metadata": {},
   "outputs": [],
   "source": [
    "origin = [0], [0]\n",
    "plt.quiver(*origin, eig_vects[:,0], eig_vects[:,1], color=['r','b'], scale=3)\n",
    "plt.show()"
   ]
  },
  {
   "cell_type": "code",
   "execution_count": null,
   "metadata": {},
   "outputs": [],
   "source": [
    "print(f\"Eigenvalues: {eig_vals}\")"
   ]
  },
  {
   "cell_type": "code",
   "execution_count": null,
   "metadata": {},
   "outputs": [],
   "source": [
    "print(f\"Eigenvectors: {eig_vects}\")"
   ]
  },
  {
   "cell_type": "markdown",
   "metadata": {},
   "source": [
    "## Analysis of Hyperbolicity and Invertibility"
   ]
  },
  {
   "cell_type": "code",
   "execution_count": null,
   "metadata": {},
   "outputs": [],
   "source": [
    "def is_hyperbolic(eig_vals: np.array) -> bool:\n",
    "    contr_seg = any(np.abs(eig_val) < 1 for eig_val in eig_vals)\n",
    "    exp_seg = any(np.abs(eig_val) > 1 for eig_val in eig_vals)\n",
    "\n",
    "    return contr_seg and exp_seg"
   ]
  },
  {
   "cell_type": "code",
   "execution_count": null,
   "metadata": {},
   "outputs": [],
   "source": [
    "system_hyperbolic = is_hyperbolic(eig_vals)\n",
    "print(f\"Dynamic system is hyperbolic: {system_hyperbolic}\")"
   ]
  },
  {
   "cell_type": "code",
   "execution_count": null,
   "metadata": {},
   "outputs": [],
   "source": [
    "def is_invertible(A: np.array) -> bool:\n",
    "    return np.abs(np.linalg.det(A)) == 1"
   ]
  },
  {
   "cell_type": "code",
   "execution_count": null,
   "metadata": {},
   "outputs": [],
   "source": [
    "system_invertible = is_invertible(A)\n",
    "print(f\"Dynamic system is invertble: {system_invertible}\")"
   ]
  },
  {
   "cell_type": "markdown",
   "metadata": {},
   "source": [
    "## Computation of Bases for Contracting and Expanding Segments "
   ]
  },
  {
   "cell_type": "code",
   "execution_count": null,
   "metadata": {},
   "outputs": [],
   "source": [
    "def expanding_segments(eig_vals: np.array, eig_vects: np.array) -> np.array:\n",
    "    exp_eig_spaces_msk = np.abs(eig_vals) > 1\n",
    "    print(exp_eig_spaces_msk)\n",
    "    return eig_vects[exp_eig_spaces_msk]"
   ]
  },
  {
   "cell_type": "code",
   "execution_count": null,
   "metadata": {},
   "outputs": [],
   "source": [
    "def contracting_segments(eig_vals: np.array, eig_vects: np.array) -> np.array:\n",
    "    contr_eig_spaces_msk = np.abs(eig_vals) < 1\n",
    "    print(contr_eig_spaces_msk)\n",
    "    return eig_vects[contr_eig_spaces_msk]"
   ]
  },
  {
   "cell_type": "code",
   "execution_count": null,
   "metadata": {},
   "outputs": [],
   "source": [
    "contr_segs = contracting_segments(eig_vals, eig_vects)\n",
    "print(f\"Contracting segments: {contr_segs}\")"
   ]
  },
  {
   "cell_type": "code",
   "execution_count": null,
   "metadata": {},
   "outputs": [],
   "source": [
    "exp_segs = expanding_segments(eig_vals, eig_vects)\n",
    "print(f\"Expanding segments: {exp_segs}\")"
   ]
  },
  {
   "cell_type": "markdown",
   "metadata": {},
   "source": [
    "## Translate between Euclidea Plane and Torus"
   ]
  },
  {
   "cell_type": "code",
   "execution_count": null,
   "metadata": {},
   "outputs": [],
   "source": [
    "def q(x: np.array) -> np.array:\n",
    "    return x % 1"
   ]
  },
  {
   "cell_type": "code",
   "execution_count": null,
   "metadata": {},
   "outputs": [],
   "source": [
    "# sample point in R^2 between -10 and 10\n",
    "x = np.random.uniform(low=-10, high=10, size=2)"
   ]
  },
  {
   "cell_type": "code",
   "execution_count": null,
   "metadata": {},
   "outputs": [],
   "source": [
    "# apply system's dynamics A in plane, then push down to torus by q\n",
    "plane_dynamics_result = q(np.dot(A, x))\n",
    "print(f\"Next point on torus: {plane_dynamics_result}\")"
   ]
  },
  {
   "cell_type": "code",
   "execution_count": null,
   "metadata": {},
   "outputs": [],
   "source": [
    "# push down point to torus, then apply system's dynamics phi on torus\n",
    "torus_dynamics_result = phi(q(x))\n",
    "print(f\"Next point on torus: {torus_dynamics_result}\")"
   ]
  },
  {
   "cell_type": "code",
   "execution_count": null,
   "metadata": {},
   "outputs": [],
   "source": [
    "if np.all(plane_dynamics_result == torus_dynamics_result):\n",
    "    print(f\"System dynamics in plane and on torus commute by q!\")\n",
    "else:\n",
    "    print(f\"System dynamics in plane and on torus do not commute by q!\")"
   ]
  },
  {
   "cell_type": "markdown",
   "metadata": {},
   "source": [
    "## Calculate Inetrsections between Lines"
   ]
  },
  {
   "cell_type": "code",
   "execution_count": null,
   "metadata": {},
   "outputs": [],
   "source": [
    "def perp(a) :\n",
    "    b = np.empty_like(a)\n",
    "    b[0] = -a[1]\n",
    "    b[1] = a[0]\n",
    "    return b\n",
    "\n",
    "# line segment a given by endpoints a1, a2\n",
    "# line segment b given by endpoints b1, b2\n",
    "def seg_intersect(a, b) :\n",
    "    a1, a2 = a\n",
    "    b1, b2 = b\n",
    "\n",
    "    da = a2 - a1\n",
    "    db = b2 - b1\n",
    "    dp = a1 - b1\n",
    "    dap = perp(da)\n",
    "    denom = np.dot(dap, db)\n",
    "    num = np.dot(dap, dp)\n",
    "\n",
    "    return (num / denom.astype(float))*db + b1"
   ]
  },
  {
   "cell_type": "markdown",
   "metadata": {},
   "source": [
    "## Calculate Hyperbolic Fixed Point"
   ]
  },
  {
   "cell_type": "code",
   "execution_count": null,
   "metadata": {},
   "outputs": [],
   "source": [
    "# reformulate fixed point problem Ax = x as root finding problem Ax-x = 0\n",
    "def objective_func(x: np.array) -> np.array:\n",
    "    return np.dot(A, x) - x"
   ]
  },
  {
   "cell_type": "code",
   "execution_count": null,
   "metadata": {},
   "outputs": [],
   "source": [
    "# function that calculates jacobian of objective function, namely D(Ax-x) = A-I\n",
    "def jac(x: np.array) -> np.array:\n",
    "    return A - np.identity(n=2)"
   ]
  },
  {
   "cell_type": "code",
   "execution_count": null,
   "metadata": {},
   "outputs": [],
   "source": [
    "# find roots of objective function with Levenberg-Marquardt algorithm\n",
    "root_sol = optimize.root(objective_func, np.array([1,2]), jac=jac, method=\"lm\")\n",
    "if not root_sol.success:\n",
    "    print(f\"Failed to find a fixed point. Error: {root_sol.message}\")\n",
    "else:\n",
    "    fixed_point = root_sol.x\n",
    "    print(f\"Fixed point: {fixed_point}\")"
   ]
  },
  {
   "cell_type": "markdown",
   "metadata": {},
   "source": [
    "## Calculate Symmetric (un)stable Branches around Hyperbolic Fixed Point"
   ]
  },
  {
   "cell_type": "code",
   "execution_count": null,
   "metadata": {},
   "outputs": [],
   "source": [
    "r = 0.5"
   ]
  },
  {
   "cell_type": "code",
   "execution_count": null,
   "metadata": {},
   "outputs": [],
   "source": [
    "vs = eig_vects[np.abs(eig_vals) < 1][0]\n",
    "vu = eig_vects[np.abs(eig_vals) > 1][0]\n",
    "print(f\"W^u: {vu}\")\n",
    "print(f\"W^s: {vs}\")"
   ]
  },
  {
   "cell_type": "code",
   "execution_count": null,
   "metadata": {},
   "outputs": [],
   "source": [
    "x1 = q(fixed_point + r * vs)\n",
    "x2 = q(fixed_point - r * vs)\n",
    "print(f\"x1: {x1}\")\n",
    "print(f\"x2: {x2}\")"
   ]
  },
  {
   "cell_type": "code",
   "execution_count": null,
   "metadata": {},
   "outputs": [],
   "source": [
    "y1 = q(fixed_point + r * vu)\n",
    "y2 = q(fixed_point - r * vu)\n",
    "print(f\"y1: {y1}\")\n",
    "print(f\"y2: {y2}\")"
   ]
  },
  {
   "cell_type": "code",
   "execution_count": null,
   "metadata": {},
   "outputs": [],
   "source": [
    "unit_square = np.array([[0,0], [0,1], [1,1], [1,0], [0,0]])\n",
    "points = np.array([fixed_point, x1, x2, y1, y2])\n",
    "\n",
    "w_x1 = np.array([[1,0],x1])\n",
    "w_x2 = np.array([[0,1],x2])\n",
    "\n",
    "w_y1 = np.array([[0,0],y1])\n",
    "w_y2 = np.array([[1,1],y2])\n",
    "\n",
    "fig, ax = plt.subplots()\n",
    "ax.plot(unit_square[:, 0], unit_square[:, 1], \"g\")\n",
    "\n",
    "ax.plot(w_x1[:,0], w_x1[:,1], \"r\")\n",
    "ax.plot(w_x2[:,0], w_x2[:,1], \"r\")\n",
    "ax.plot(w_y1[:,0], w_y1[:,1], \"b\")\n",
    "ax.plot(w_y2[:,0], w_y2[:,1], \"b\")\n",
    "\n",
    "ax.scatter(points[:, 0], points[:, 1])\n",
    "labels = [\"z*\", \"x1\", \"x2\", \"y1\", \"y2\"]\n",
    "\n",
    "for i, txt in enumerate(labels):\n",
    "    ax.annotate(txt, (points[i, 0] + 0.02, points[i, 1] + 0.02))"
   ]
  },
  {
   "cell_type": "markdown",
   "metadata": {},
   "source": [
    "## Trace Stable and Unstable Branches Analytically"
   ]
  },
  {
   "cell_type": "code",
   "execution_count": null,
   "metadata": {},
   "outputs": [],
   "source": [
    "def curve_intersections(z0: np.array, z1: np.array, v0: np.array, v1: np.array):\n",
    "    \"\"\"\n",
    "    Compute the point in time of intersection between two linear parameterized curves.\n",
    "    Args:\n",
    "        z0 (np.array): origin of first curve\n",
    "        z1 (np.array): origin of second curve\n",
    "        v0 (np.array): direction vector of first curve\n",
    "        v1 (np.array): direction vector of second curve\n",
    "\n",
    "    Returns:\n",
    "        t (float): time when first curve meets intersection point\n",
    "        s (float): time when second curve meets intersection point\n",
    "        p (np.array): intersection point\n",
    "    \"\"\"\n",
    "    t = np.dot(v0, z1-z0)\n",
    "    s = np.dot(v1, z0-z1)\n",
    "\n",
    "    p = z0 + t * v0\n",
    "\n",
    "    assert np.allclose(p, z1 + s * v1, atol=1e-08), \"q(t) != r(s), something went wrong.\"\n",
    "\n",
    "    return t, s, p"
   ]
  },
  {
   "cell_type": "code",
   "execution_count": null,
   "metadata": {},
   "outputs": [],
   "source": [
    "u1 = np.array([0,0])\n",
    "u2 = np.array([0,1])\n",
    "u3 = np.array([1,1])\n",
    "u4 = np.array([1,0])"
   ]
  },
  {
   "cell_type": "code",
   "execution_count": null,
   "metadata": {},
   "outputs": [],
   "source": [
    "t1, s1, p1 = curve_intersections(u1, u2, vu, vs)\n",
    "\n",
    "print(f\"Time of intersection for W^u: {np.abs(t1)}\")\n",
    "print(f\"Time of intersection for W^s: {np.abs(s1)}\")\n",
    "\n",
    "if np.abs(t1) > np.abs(s1):\n",
    "    print(\"W^u ends onto W^s\")\n",
    "else:\n",
    "    print(\"W^s ends onto W^u\")\n",
    "\n",
    "print(f\"Parametrically calculated point of intersection: {p1}\")"
   ]
  },
  {
   "cell_type": "code",
   "execution_count": null,
   "metadata": {},
   "outputs": [],
   "source": [
    "t2, s2, p2 = curve_intersections(u1, u4, vu, vs)\n",
    "\n",
    "print(f\"Time of intersection for W^u: {np.abs(t2)}\")\n",
    "print(f\"Time of intersection for W^s: {np.abs(s2)}\")\n",
    "\n",
    "if np.abs(t2) > np.abs(s2):\n",
    "    print(\"W^u ends onto W^s\")\n",
    "else:\n",
    "    print(\"W^s ends onto W^u\")\n",
    "\n",
    "print(f\"Parametrically calculated point of intersection: {p2}\")"
   ]
  },
  {
   "cell_type": "code",
   "execution_count": null,
   "metadata": {},
   "outputs": [],
   "source": [
    "t3, s3, p3 = curve_intersections(u3, u4, vu, vs)\n",
    "\n",
    "print(f\"Time of intersection for W^u: {np.abs(t3)}\")\n",
    "print(f\"Time of intersection for W^s: {np.abs(s3)}\")\n",
    "\n",
    "if np.abs(t3) > np.abs(s3):\n",
    "    print(\"W^u ends onto W^s\")\n",
    "else:\n",
    "    print(\"W^s ends onto W^u\")\n",
    "\n",
    "print(f\"Parametrically calculated point of intersection: {p3}\")"
   ]
  },
  {
   "cell_type": "code",
   "execution_count": null,
   "metadata": {},
   "outputs": [],
   "source": [
    "t4, s4, p4 = curve_intersections(u3, u2, vu, vs)\n",
    "\n",
    "print(f\"Time of intersection for W^u: {np.abs(t4)}\")\n",
    "print(f\"Time of intersection for W^s: {np.abs(s4)}\")\n",
    "\n",
    "if np.abs(t4) > np.abs(s4):\n",
    "    print(\"W^u ends onto W^s\")\n",
    "else:\n",
    "    print(\"W^s ends onto W^u\")\n",
    "\n",
    "print(f\"Parametrically calculated point of intersection: {p4}\")"
   ]
  },
  {
   "cell_type": "code",
   "execution_count": null,
   "metadata": {},
   "outputs": [],
   "source": [
    "print(f\"First eigenvector: ({eig_vects[0,0]}, {eig_vects[0,1]})\")"
   ]
  },
  {
   "cell_type": "code",
   "execution_count": null,
   "metadata": {},
   "outputs": [],
   "source": [
    "u = np.array([u1, u2, u3, u4, u1])\n",
    "p = np.array([p1, p2, p3, p4])\n",
    "\n",
    "P1 = np.array([p1, p2, p3, p4, p1])\n",
    "\n",
    "P2a = np.array([u1, p2, u4])\n",
    "P2b = np.array([u2, p4, u3])\n",
    "\n",
    "P3a = np.array([u1, p1, u2])\n",
    "P3b = np.array([u3, p3, u4])\n",
    "\n",
    "#draw unit square\n",
    "plt.plot(u[:, 0], u[:, 1], \"r\")\n",
    "\n",
    "# draw rectangle P1\n",
    "plt.plot(P1[:, 0], P1[:, 1], \"b-\")\n",
    "\n",
    "# draw rectangle P2\n",
    "plt.plot(P2a[:, 0], P2a[:, 1], \"b-\")\n",
    "plt.plot(P2b[:, 0], P2b[:, 1], \"b-\")\n",
    "\n",
    "# draw rectangle P3\n",
    "plt.plot(P3a[:, 0], P3a[:, 1], \"b-\")\n",
    "plt.plot(P3b[:, 0], P3b[:, 1], \"b-\")\n",
    "\n",
    "# draw rectangle vertices\n",
    "plt.plot(p[:, 0], p[:, 1], \"yo\")\n",
    "plt.plot(u[:, 0], u[:, 1], \"yo\")\n",
    "\n",
    "plt.show()"
   ]
  }
 ],
 "metadata": {
  "kernelspec": {
   "display_name": "Python 3",
   "language": "python",
   "name": "python3"
  },
  "language_info": {
   "codemirror_mode": {
    "name": "ipython",
    "version": 3
   },
   "file_extension": ".py",
   "mimetype": "text/x-python",
   "name": "python",
   "nbconvert_exporter": "python",
   "pygments_lexer": "ipython3",
   "version": "3.7.3"
  }
 },
 "nbformat": 4,
 "nbformat_minor": 2
}
