{
 "cells": [
  {
   "cell_type": "markdown",
   "metadata": {},
   "source": [
    "# Implementation of Markov Partition Construction Algorithm in Chapter 4.2"
   ]
  },
  {
   "cell_type": "code",
   "execution_count": null,
   "metadata": {},
   "outputs": [],
   "source": [
    "import numpy as np\n",
    "import matplotlib.pyplot as plt\n",
    "from scipy import optimize\n",
    "import shapely\n",
    "from shapely.geometry import LineString, MultiLineString, Point, MultiPoint"
   ]
  },
  {
   "cell_type": "markdown",
   "metadata": {},
   "source": [
    "## Define System's Dynamics in Euclidean Plane and on Torus"
   ]
  },
  {
   "cell_type": "code",
   "execution_count": null,
   "metadata": {},
   "outputs": [],
   "source": [
    "A = np.array([[1,1], [1,0]])\n",
    "A"
   ]
  },
  {
   "cell_type": "code",
   "execution_count": null,
   "metadata": {},
   "outputs": [],
   "source": [
    "def phi(x: np.array) -> np.array:\n",
    "    return np.dot(A, x) % 1"
   ]
  },
  {
   "cell_type": "code",
   "execution_count": null,
   "metadata": {},
   "outputs": [],
   "source": [
    "def d_phi(x: np.array):\n",
    "    return np.transpose(A)"
   ]
  },
  {
   "cell_type": "markdown",
   "metadata": {},
   "source": [
    "## Compute Eigendecomposition"
   ]
  },
  {
   "cell_type": "code",
   "execution_count": null,
   "metadata": {},
   "outputs": [],
   "source": [
    "# get eigenvalues and right eigenvectors, i.e. transposed eigenvectors\n",
    "eig_vals, eig_vects = np.linalg.eig(A)\n",
    "# retrieve eigenvectors from right eigenvectors\n",
    "eig_vects = np.transpose(eig_vects)"
   ]
  },
  {
   "cell_type": "code",
   "execution_count": null,
   "metadata": {},
   "outputs": [],
   "source": [
    "origin = [0], [0]\n",
    "plt.quiver(*origin, eig_vects[:,0], eig_vects[:,1], color=['r','b'], scale=3)\n",
    "plt.show()"
   ]
  },
  {
   "cell_type": "code",
   "execution_count": null,
   "metadata": {},
   "outputs": [],
   "source": [
    "print(f\"Eigenvalues: {eig_vals}\")"
   ]
  },
  {
   "cell_type": "code",
   "execution_count": null,
   "metadata": {},
   "outputs": [],
   "source": [
    "print(f\"Eigenvectors: {eig_vects}\")"
   ]
  },
  {
   "cell_type": "markdown",
   "metadata": {},
   "source": [
    "## Analysis of Hyperbolicity and Invertibility"
   ]
  },
  {
   "cell_type": "code",
   "execution_count": null,
   "metadata": {},
   "outputs": [],
   "source": [
    "def is_hyperbolic(eig_vals: np.array) -> bool:\n",
    "    contr_seg = any(np.abs(eig_val) < 1 for eig_val in eig_vals)\n",
    "    exp_seg = any(np.abs(eig_val) > 1 for eig_val in eig_vals)\n",
    "\n",
    "    return contr_seg and exp_seg"
   ]
  },
  {
   "cell_type": "code",
   "execution_count": null,
   "metadata": {},
   "outputs": [],
   "source": [
    "system_hyperbolic = is_hyperbolic(eig_vals)\n",
    "print(f\"Dynamic system is hyperbolic: {system_hyperbolic}\")"
   ]
  },
  {
   "cell_type": "code",
   "execution_count": null,
   "metadata": {},
   "outputs": [],
   "source": [
    "def is_invertible(A: np.array) -> bool:\n",
    "    return np.abs(np.linalg.det(A)) == 1"
   ]
  },
  {
   "cell_type": "code",
   "execution_count": null,
   "metadata": {},
   "outputs": [],
   "source": [
    "system_invertible = is_invertible(A)\n",
    "print(f\"Dynamic system is invertble: {system_invertible}\")"
   ]
  },
  {
   "cell_type": "markdown",
   "metadata": {},
   "source": [
    "## Computation of Bases for Contracting and Expanding Segments "
   ]
  },
  {
   "cell_type": "code",
   "execution_count": null,
   "metadata": {},
   "outputs": [],
   "source": [
    "def expanding_segments(eig_vals: np.array, eig_vects: np.array) -> np.array:\n",
    "    exp_eig_spaces_msk = np.abs(eig_vals) > 1\n",
    "    print(exp_eig_spaces_msk)\n",
    "    return eig_vects[exp_eig_spaces_msk]"
   ]
  },
  {
   "cell_type": "code",
   "execution_count": null,
   "metadata": {},
   "outputs": [],
   "source": [
    "def contracting_segments(eig_vals: np.array, eig_vects: np.array) -> np.array:\n",
    "    contr_eig_spaces_msk = np.abs(eig_vals) < 1\n",
    "    print(contr_eig_spaces_msk)\n",
    "    return eig_vects[contr_eig_spaces_msk]"
   ]
  },
  {
   "cell_type": "code",
   "execution_count": null,
   "metadata": {},
   "outputs": [],
   "source": [
    "contr_segs = contracting_segments(eig_vals, eig_vects)\n",
    "print(f\"Contracting segments: {contr_segs}\")"
   ]
  },
  {
   "cell_type": "code",
   "execution_count": null,
   "metadata": {},
   "outputs": [],
   "source": [
    "exp_segs = expanding_segments(eig_vals, eig_vects)\n",
    "print(f\"Expanding segments: {exp_segs}\")"
   ]
  },
  {
   "cell_type": "markdown",
   "metadata": {},
   "source": [
    "## Translate between Euclidea Plane and Torus"
   ]
  },
  {
   "cell_type": "code",
   "execution_count": null,
   "metadata": {},
   "outputs": [],
   "source": [
    "def q(x: np.array) -> np.array:\n",
    "    return x % 1"
   ]
  },
  {
   "cell_type": "code",
   "execution_count": null,
   "metadata": {},
   "outputs": [],
   "source": [
    "# sample point in R^2 between -10 and 10\n",
    "x = np.random.uniform(low=-10, high=10, size=2)"
   ]
  },
  {
   "cell_type": "code",
   "execution_count": null,
   "metadata": {},
   "outputs": [],
   "source": [
    "# apply system's dynamics A in plane, then push down to torus by q\n",
    "plane_dynamics_result = q(np.dot(A, x))\n",
    "print(f\"Next point on torus: {plane_dynamics_result}\")"
   ]
  },
  {
   "cell_type": "code",
   "execution_count": null,
   "metadata": {},
   "outputs": [],
   "source": [
    "# push down point to torus, then apply system's dynamics phi on torus\n",
    "torus_dynamics_result = phi(q(x))\n",
    "print(f\"Next point on torus: {torus_dynamics_result}\")"
   ]
  },
  {
   "cell_type": "code",
   "execution_count": null,
   "metadata": {},
   "outputs": [],
   "source": [
    "if np.all(plane_dynamics_result == torus_dynamics_result):\n",
    "    print(f\"System dynamics in plane and on torus commute by q!\")\n",
    "else:\n",
    "    print(f\"System dynamics in plane and on torus do not commute by q!\")"
   ]
  },
  {
   "cell_type": "markdown",
   "metadata": {},
   "source": [
    "## Calculate Inetrsections between Lines"
   ]
  },
  {
   "cell_type": "code",
   "execution_count": null,
   "metadata": {},
   "outputs": [],
   "source": [
    "def perp(a) :\n",
    "    b = np.empty_like(a)\n",
    "    b[0] = -a[1]\n",
    "    b[1] = a[0]\n",
    "    return b\n",
    "\n",
    "# line segment a given by endpoints a1, a2\n",
    "# line segment b given by endpoints b1, b2\n",
    "def seg_intersect(a, b) :\n",
    "    a1, a2 = a\n",
    "    b1, b2 = b\n",
    "\n",
    "    da = a2 - a1\n",
    "    db = b2 - b1\n",
    "    dp = a1 - b1\n",
    "    dap = perp(da)\n",
    "    denom = np.dot(dap, db)\n",
    "    num = np.dot(dap, dp)\n",
    "\n",
    "    return (num / denom.astype(float))*db + b1"
   ]
  },
  {
   "cell_type": "markdown",
   "metadata": {},
   "source": [
    "## Calculate Hyperbolic Fixed Point"
   ]
  },
  {
   "cell_type": "code",
   "execution_count": null,
   "metadata": {},
   "outputs": [],
   "source": [
    "# reformulate fixed point problem Ax = x as root finding problem Ax-x = 0\n",
    "def objective_func(x: np.array) -> np.array:\n",
    "    return np.dot(A, x) - x"
   ]
  },
  {
   "cell_type": "code",
   "execution_count": null,
   "metadata": {},
   "outputs": [],
   "source": [
    "# function that calculates jacobian of objective function, namely D(Ax-x) = A-I\n",
    "def jac(x: np.array) -> np.array:\n",
    "    return A - np.identity(n=2)"
   ]
  },
  {
   "cell_type": "code",
   "execution_count": null,
   "metadata": {},
   "outputs": [],
   "source": [
    "# compute fixed point\n",
    "# find roots of objective function with Levenberg-Marquardt algorithm\n",
    "def compute_fixed_point(objective_func: callable, jac: callable, init_x: np.array=np.array([1,1])) -> np.array:\n",
    "    root_sol = optimize.root(objective_func, init_x, jac=jac, method=\"lm\")\n",
    "    if not root_sol.success:\n",
    "        print(f\"Failed to find a fixed point. Error: {root_sol.message}\")\n",
    "        return None\n",
    "\n",
    "    fixed_point = root_sol.x\n",
    "    return fixed_point"
   ]
  },
  {
   "cell_type": "code",
   "execution_count": null,
   "metadata": {},
   "outputs": [],
   "source": [
    "def fixed_point_is_hyperbolic(fixed_point: np.array, jac: callable) -> bool:\n",
    "    eig_vals = np.linalg.eigvals(jac(fixed_point))\n",
    "    return np.all(eig_vals != 1)"
   ]
  },
  {
   "cell_type": "code",
   "execution_count": null,
   "metadata": {},
   "outputs": [],
   "source": [
    "fixed_point = compute_fixed_point(objective_func, jac, np.array([1,2]))\n",
    "print(f\"Fixed point: {fixed_point}\")\n",
    "if fixed_point_is_hyperbolic(fixed_point, d_phi):\n",
    "    print(f\"Fixed point {fixed_point} is a hyperbolic one!\")\n",
    "else:\n",
    "    print(f\"Fixed point {fixed_point} is not a hyperbolic one!\")"
   ]
  },
  {
   "cell_type": "markdown",
   "metadata": {},
   "source": [
    "## Calculate Symmetric (un)stable Branches around Hyperbolic Fixed Point"
   ]
  },
  {
   "cell_type": "code",
   "execution_count": null,
   "metadata": {},
   "outputs": [],
   "source": [
    "r = 0.5"
   ]
  },
  {
   "cell_type": "code",
   "execution_count": null,
   "metadata": {},
   "outputs": [],
   "source": [
    "vs = eig_vects[np.abs(eig_vals) < 1][0]\n",
    "vu = eig_vects[np.abs(eig_vals) > 1][0]\n",
    "print(f\"W^u: {vu}\")\n",
    "print(f\"W^s: {vs}\")"
   ]
  },
  {
   "cell_type": "code",
   "execution_count": null,
   "metadata": {},
   "outputs": [],
   "source": [
    "x1 = q(fixed_point + r * vs)\n",
    "x2 = q(fixed_point - r * vs)\n",
    "print(f\"x1: {x1}\")\n",
    "print(f\"x2: {x2}\")"
   ]
  },
  {
   "cell_type": "code",
   "execution_count": null,
   "metadata": {},
   "outputs": [],
   "source": [
    "y1 = q(fixed_point + r * vu)\n",
    "y2 = q(fixed_point - r * vu)\n",
    "print(f\"y1: {y1}\")\n",
    "print(f\"y2: {y2}\")"
   ]
  },
  {
   "cell_type": "code",
   "execution_count": null,
   "metadata": {},
   "outputs": [],
   "source": [
    "unit_square = np.array([[0,0], [0,1], [1,1], [1,0], [0,0]])\n",
    "points = np.array([fixed_point, x1, x2, y1, y2])\n",
    "\n",
    "w_x1 = np.array([[1,0],x1])\n",
    "w_x2 = np.array([[0,1],x2])\n",
    "\n",
    "w_y1 = np.array([[0,0],y1])\n",
    "w_y2 = np.array([[1,1],y2])\n",
    "\n",
    "fig, ax = plt.subplots()\n",
    "ax.plot(unit_square[:, 0], unit_square[:, 1], \"g\")\n",
    "\n",
    "ax.plot(w_x1[:,0], w_x1[:,1], \"r\")\n",
    "ax.plot(w_x2[:,0], w_x2[:,1], \"r\")\n",
    "ax.plot(w_y1[:,0], w_y1[:,1], \"b\")\n",
    "ax.plot(w_y2[:,0], w_y2[:,1], \"b\")\n",
    "\n",
    "ax.scatter(points[:, 0], points[:, 1])\n",
    "labels = [\"z*\", \"x1\", \"x2\", \"y1\", \"y2\"]\n",
    "\n",
    "for i, txt in enumerate(labels):\n",
    "    ax.annotate(txt, (points[i, 0] + 0.02, points[i, 1] + 0.02))"
   ]
  },
  {
   "cell_type": "markdown",
   "metadata": {},
   "source": [
    "## Trace Stable and Unstable Branches Analytically"
   ]
  },
  {
   "cell_type": "code",
   "execution_count": null,
   "metadata": {},
   "outputs": [],
   "source": [
    "def curve_intersections(z0: np.array, z1: np.array, v0: np.array, v1: np.array):\n",
    "    \"\"\"\n",
    "    Compute the point in time of intersection between two linear parameterized curves.\n",
    "    Args:\n",
    "        z0 (np.array): origin of first curve\n",
    "        z1 (np.array): origin of second curve\n",
    "        v0 (np.array): direction vector of first curve\n",
    "        v1 (np.array): direction vector of second curve\n",
    "\n",
    "    Returns:\n",
    "        t (float): time when first curve meets intersection point\n",
    "        s (float): time when second curve meets intersection point\n",
    "        p (np.array): intersection point\n",
    "    \"\"\"\n",
    "    t = np.dot(v0, z1-z0)\n",
    "    s = np.dot(v1, z0-z1)\n",
    "\n",
    "    p = z0 + t * v0\n",
    "\n",
    "    assert np.allclose(p, z1 + s * v1, atol=1e-08), \"q(t) != r(s), something went wrong.\"\n",
    "\n",
    "    return t, s, p"
   ]
  },
  {
   "cell_type": "code",
   "execution_count": null,
   "metadata": {},
   "outputs": [],
   "source": [
    "u1 = np.array([0,0])\n",
    "u2 = np.array([0,1])\n",
    "u3 = np.array([1,1])\n",
    "u4 = np.array([1,0])"
   ]
  },
  {
   "cell_type": "code",
   "execution_count": null,
   "metadata": {},
   "outputs": [],
   "source": [
    "t1, s1, p1 = curve_intersections(u1, u2, vu, vs)\n",
    "\n",
    "print(f\"Time of intersection for W^u: {np.abs(t1)}\")\n",
    "print(f\"Time of intersection for W^s: {np.abs(s1)}\")\n",
    "\n",
    "if np.abs(t1) > np.abs(s1):\n",
    "    print(\"W^u ends onto W^s\")\n",
    "else:\n",
    "    print(\"W^s ends onto W^u\")\n",
    "\n",
    "print(f\"Parametrically calculated point of intersection: {p1}\")"
   ]
  },
  {
   "cell_type": "code",
   "execution_count": null,
   "metadata": {},
   "outputs": [],
   "source": [
    "t2, s2, p2 = curve_intersections(u1, u4, vu, vs)\n",
    "\n",
    "print(f\"Time of intersection for W^u: {np.abs(t2)}\")\n",
    "print(f\"Time of intersection for W^s: {np.abs(s2)}\")\n",
    "\n",
    "if np.abs(t2) > np.abs(s2):\n",
    "    print(\"W^u ends onto W^s\")\n",
    "else:\n",
    "    print(\"W^s ends onto W^u\")\n",
    "\n",
    "print(f\"Parametrically calculated point of intersection: {p2}\")"
   ]
  },
  {
   "cell_type": "code",
   "execution_count": null,
   "metadata": {},
   "outputs": [],
   "source": [
    "t3, s3, p3 = curve_intersections(u3, u4, vu, vs)\n",
    "\n",
    "print(f\"Time of intersection for W^u: {np.abs(t3)}\")\n",
    "print(f\"Time of intersection for W^s: {np.abs(s3)}\")\n",
    "\n",
    "if np.abs(t3) > np.abs(s3):\n",
    "    print(\"W^u ends onto W^s\")\n",
    "else:\n",
    "    print(\"W^s ends onto W^u\")\n",
    "\n",
    "print(f\"Parametrically calculated point of intersection: {p3}\")"
   ]
  },
  {
   "cell_type": "code",
   "execution_count": null,
   "metadata": {},
   "outputs": [],
   "source": [
    "t4, s4, p4 = curve_intersections(u3, u2, vu, vs)\n",
    "\n",
    "print(f\"Time of intersection for W^u: {np.abs(t4)}\")\n",
    "print(f\"Time of intersection for W^s: {np.abs(s4)}\")\n",
    "\n",
    "if np.abs(t4) > np.abs(s4):\n",
    "    print(\"W^u ends onto W^s\")\n",
    "else:\n",
    "    print(\"W^s ends onto W^u\")\n",
    "\n",
    "print(f\"Parametrically calculated point of intersection: {p4}\")"
   ]
  },
  {
   "cell_type": "code",
   "execution_count": null,
   "metadata": {},
   "outputs": [],
   "source": [
    "print(f\"First eigenvector: ({eig_vects[0,0]}, {eig_vects[0,1]})\")"
   ]
  },
  {
   "cell_type": "code",
   "execution_count": null,
   "metadata": {},
   "outputs": [],
   "source": [
    "u = np.array([u1, u2, u3, u4, u1])\n",
    "p = np.array([p1, p2, p3, p4])\n",
    "\n",
    "P1 = np.array([p1, p2, p3, p4, p1])\n",
    "\n",
    "P2a = np.array([u1, p2, u4])\n",
    "P2b = np.array([u2, p4, u3])\n",
    "\n",
    "P3a = np.array([u1, p1, u2])\n",
    "P3b = np.array([u3, p3, u4])\n",
    "\n",
    "#draw unit square\n",
    "plt.plot(u[:, 0], u[:, 1], \"r\")\n",
    "\n",
    "# draw rectangle P1\n",
    "plt.plot(P1[:, 0], P1[:, 1], \"b-\")\n",
    "\n",
    "# draw rectangle P2\n",
    "plt.plot(P2a[:, 0], P2a[:, 1], \"b-\")\n",
    "plt.plot(P2b[:, 0], P2b[:, 1], \"b-\")\n",
    "\n",
    "# draw rectangle P3\n",
    "plt.plot(P3a[:, 0], P3a[:, 1], \"b-\")\n",
    "plt.plot(P3b[:, 0], P3b[:, 1], \"b-\")\n",
    "\n",
    "# draw rectangle vertices\n",
    "plt.plot(p[:, 0], p[:, 1], \"yo\")\n",
    "plt.plot(u[:, 0], u[:, 1], \"yo\")\n",
    "\n",
    "plt.show()"
   ]
  },
  {
   "cell_type": "code",
   "execution_count": null,
   "metadata": {},
   "outputs": [],
   "source": [
    "P1_phi = np.array([phi(p1), phi(p2), phi(p3), phi(p4)])\n",
    "\n",
    "phi_p1_a = seg_intersect(np.array([u3,u4]), np.array([phi(p1), phi(p1)+vu]))\n",
    "phi_p2_a = seg_intersect(np.array([u1,u2]), np.array([phi(p2), phi(p2)-vu]))\n",
    "phi_p3_a = seg_intersect(np.array([u1,u2]), np.array([phi(p3), phi(p3)-vu]))\n",
    "phi_p4_a = seg_intersect(np.array([u3,u4]), np.array([phi(p4), phi(p4)+vu]))\n",
    "\n",
    "P1_phi_boundaries_a = np.array([phi(p1), phi_p1_a, phi_p4_a, phi(p4)])\n",
    "P1_phi_boundaries_b = np.array([phi_p3_a, phi_p2_a, phi(p2), phi(p3)])"
   ]
  },
  {
   "cell_type": "code",
   "execution_count": null,
   "metadata": {},
   "outputs": [],
   "source": [
    "u = np.array([u1, u2, u3, u4, u1])\n",
    "p = np.array([p1, p2, p3, p4])\n",
    "\n",
    "P1 = np.array([p1, p2, p3, p4, p1])\n",
    "\n",
    "P2a = np.array([u1, p2, u4])\n",
    "P2b = np.array([u2, p4, u3])\n",
    "\n",
    "P3a = np.array([u1, p1, u2])\n",
    "P3b = np.array([u3, p3, u4])\n",
    "\n",
    "#draw unit square\n",
    "plt.plot(u[:, 0], u[:, 1], \"r\")\n",
    "\n",
    "# draw rectangle P1\n",
    "plt.plot(P1[:, 0], P1[:, 1], \"b-\")\n",
    "\n",
    "# draw rectangle P2\n",
    "plt.plot(P2a[:, 0], P2a[:, 1], \"b-\")\n",
    "plt.plot(P2b[:, 0], P2b[:, 1], \"b-\")\n",
    "\n",
    "# draw rectangle P3\n",
    "plt.plot(P3a[:, 0], P3a[:, 1], \"b-\")\n",
    "plt.plot(P3b[:, 0], P3b[:, 1], \"b-\")\n",
    "\n",
    "# draw P1-phi rectangle vertices\n",
    "plt.plot(P1_phi[:, 0], P1_phi[:, 1], \"yo\")\n",
    "\n",
    "# draw P1-phi rectangle area\n",
    "plt.fill(P1_phi_boundaries_a[:, 0], P1_phi_boundaries_a[:, 1], \"gray\", alpha=0.3)\n",
    "plt.fill(P1_phi_boundaries_b[:, 0], P1_phi_boundaries_b[:, 1], \"gray\", alpha=0.3)\n",
    "\n",
    "plt.show()"
   ]
  },
  {
   "cell_type": "code",
   "execution_count": null,
   "metadata": {},
   "outputs": [],
   "source": [
    "P2_phi = np.array([phi(u1)+np.array([1,0]), phi(p2), phi(u4)+np.array([0,1]), phi(p4)])\n",
    "\n",
    "phi_p1_a = seg_intersect(np.array([u3,u4]), np.array([phi(p1), phi(p1)+vu]))\n",
    "phi_p2_a = seg_intersect(np.array([u1,u2]), np.array([phi(p2), phi(p2)-vu]))\n",
    "phi_p3_a = seg_intersect(np.array([u1,u2]), np.array([phi(p3), phi(p3)-vu]))\n",
    "phi_p4_a = seg_intersect(np.array([u3,u4]), np.array([phi(p4), phi(p4)+vu]))\n",
    "\n",
    "P2_phi_boundaries_a = np.array([u2, phi(p2), phi_p2_a])\n",
    "P2_phi_boundaries_b = np.array([u4, phi(p4), phi_p4_a])\n",
    "P2_phi_boundaries_c = np.array([u3, phi_p3_a, u1, phi_p1_a])"
   ]
  },
  {
   "cell_type": "code",
   "execution_count": null,
   "metadata": {},
   "outputs": [],
   "source": [
    "u = np.array([u1, u2, u3, u4, u1])\n",
    "p = np.array([p1, p2, p3, p4])\n",
    "\n",
    "P1 = np.array([p1, p2, p3, p4, p1])\n",
    "\n",
    "P2a = np.array([u1, p2, u4])\n",
    "P2b = np.array([u2, p4, u3])\n",
    "\n",
    "P3a = np.array([u1, p1, u2])\n",
    "P3b = np.array([u3, p3, u4])\n",
    "\n",
    "#draw unit square\n",
    "plt.plot(u[:, 0], u[:, 1], \"r\")\n",
    "\n",
    "# draw rectangle P1\n",
    "plt.plot(P1[:, 0], P1[:, 1], \"b-\")\n",
    "\n",
    "# draw rectangle P2\n",
    "plt.plot(P2a[:, 0], P2a[:, 1], \"b-\")\n",
    "plt.plot(P2b[:, 0], P2b[:, 1], \"b-\")\n",
    "\n",
    "# draw rectangle P3\n",
    "plt.plot(P3a[:, 0], P3a[:, 1], \"b-\")\n",
    "plt.plot(P3b[:, 0], P3b[:, 1], \"b-\")\n",
    "\n",
    "# draw P2-phi rectangle vertices\n",
    "plt.plot(P2_phi[:, 0], P2_phi[:, 1], \"yo\")\n",
    "\n",
    "# draw P2-phi rectangle area\n",
    "plt.fill(P2_phi_boundaries_a[:, 0], P2_phi_boundaries_a[:, 1], \"gray\", alpha=0.3)\n",
    "plt.fill(P2_phi_boundaries_b[:, 0], P2_phi_boundaries_b[:, 1], \"gray\", alpha=0.3)\n",
    "plt.fill(P2_phi_boundaries_c[:, 0], P2_phi_boundaries_c[:, 1], \"gray\", alpha=0.3)\n",
    "\n",
    "plt.show()"
   ]
  },
  {
   "cell_type": "code",
   "execution_count": null,
   "metadata": {},
   "outputs": [],
   "source": [
    "P3_phi = np.array([phi(u1), phi(p1), phi(u2)+np.array([1,0]), phi(p3)])\n",
    "\n",
    "P3_phi_boundaries_a = np.array([u1, phi(p1), u4])\n",
    "P3_phi_boundaries_b = np.array([u2, phi(p3), u3])"
   ]
  },
  {
   "cell_type": "code",
   "execution_count": null,
   "metadata": {},
   "outputs": [],
   "source": [
    "u = np.array([u1, u2, u3, u4, u1])\n",
    "p = np.array([p1, p2, p3, p4])\n",
    "\n",
    "P1 = np.array([p1, p2, p3, p4, p1])\n",
    "\n",
    "P2a = np.array([u1, p2, u4])\n",
    "P2b = np.array([u2, p4, u3])\n",
    "\n",
    "P3a = np.array([u1, p1, u2])\n",
    "P3b = np.array([u3, p3, u4])\n",
    "\n",
    "#draw unit square\n",
    "plt.plot(u[:, 0], u[:, 1], \"r\")\n",
    "\n",
    "# draw rectangle P1\n",
    "plt.plot(P1[:, 0], P1[:, 1], \"b-\")\n",
    "\n",
    "# draw rectangle P2\n",
    "plt.plot(P2a[:, 0], P2a[:, 1], \"b-\")\n",
    "plt.plot(P2b[:, 0], P2b[:, 1], \"b-\")\n",
    "\n",
    "# draw rectangle P3\n",
    "plt.plot(P3a[:, 0], P3a[:, 1], \"b-\")\n",
    "plt.plot(P3b[:, 0], P3b[:, 1], \"b-\")\n",
    "\n",
    "# draw P3-phi rectangle vertices\n",
    "plt.plot(P3_phi[:, 0], P3_phi[:, 1], \"yo\")\n",
    "\n",
    "# draw P3-phi rectangle area\n",
    "plt.fill(P3_phi_boundaries_a[:, 0], P3_phi_boundaries_a[:, 1], \"gray\", alpha=0.3)\n",
    "plt.fill(P3_phi_boundaries_b[:, 0], P3_phi_boundaries_b[:, 1], \"gray\", alpha=0.3)\n",
    "\n",
    "plt.show()"
   ]
  },
  {
   "cell_type": "markdown",
   "metadata": {},
   "source": [
    "## Approximate Stable and Unstable Branches Numerically"
   ]
  },
  {
   "cell_type": "code",
   "execution_count": null,
   "metadata": {},
   "outputs": [],
   "source": [
    "def phi(x: np.array) -> np.array:\n",
    "    return np.dot(A, x) % 1"
   ]
  },
  {
   "cell_type": "code",
   "execution_count": null,
   "metadata": {},
   "outputs": [],
   "source": [
    "def d_phi(x: np.array) -> np.array:\n",
    "    return np.transpose(A)"
   ]
  },
  {
   "cell_type": "code",
   "execution_count": null,
   "metadata": {},
   "outputs": [],
   "source": [
    "def identification_occurres(x: np.array) -> bool:\n",
    "    return np.any(x != x%1)"
   ]
  },
  {
   "cell_type": "code",
   "execution_count": null,
   "metadata": {},
   "outputs": [],
   "source": [
    "def compute_unstable_eigenspace(x: np.array, d_phi: callable):\n",
    "    eig_vals, eig_vects = np.linalg.eig(d_phi(x))\n",
    "    eig_vects = np.transpose(eig_vects)\n",
    "    msk = eig_vals > 1\n",
    "    return eig_vects[msk][0]"
   ]
  },
  {
   "cell_type": "code",
   "execution_count": null,
   "metadata": {},
   "outputs": [],
   "source": [
    "def compute_stable_eigenspace(x: np.array, d_phi: callable):\n",
    "    eig_vals, eig_vects = np.linalg.eig(d_phi(x))\n",
    "    eig_vects = np.transpose(eig_vects)\n",
    "    msk = eig_vals < 1\n",
    "    return eig_vects[msk][0]"
   ]
  },
  {
   "cell_type": "code",
   "execution_count": null,
   "metadata": {},
   "outputs": [],
   "source": [
    "compute_unstable_eigenspace(np.array([0,0]), d_phi)"
   ]
  },
  {
   "cell_type": "code",
   "execution_count": null,
   "metadata": {},
   "outputs": [],
   "source": [
    "fixed_point = compute_fixed_point(objective_func, jac, np.array([2,3]))"
   ]
  },
  {
   "cell_type": "code",
   "execution_count": null,
   "metadata": {},
   "outputs": [],
   "source": [
    "fixed_point_is_hyperbolic(fixed_point, d_phi)"
   ]
  },
  {
   "cell_type": "code",
   "execution_count": null,
   "metadata": {},
   "outputs": [],
   "source": [
    "def wt_u(last_wt_u: np.array, d_phi: callable, delta: float=10e-3, reverse_direction: bool=False) -> np.array:\n",
    "    direction_sign = 1 if not reverse_direction else -1\n",
    "    return last_wt_u + direction_sign * delta * compute_unstable_eigenspace(last_wt_u, d_phi)"
   ]
  },
  {
   "cell_type": "code",
   "execution_count": null,
   "metadata": {},
   "outputs": [],
   "source": [
    "def wt_s(last_wt_s: np.array, d_phi: callable, delta: float=10e-3, reverse_direction: bool=False) -> np.array:\n",
    "    direction_sign = 1 if not reverse_direction else -1\n",
    "    return last_wt_s + direction_sign * delta * compute_stable_eigenspace(last_wt_s, d_phi)"
   ]
  },
  {
   "cell_type": "code",
   "execution_count": null,
   "metadata": {},
   "outputs": [],
   "source": [
    "W_u = []\n",
    "last_wt_u = fixed_point\n",
    "piecewise_curve = [last_wt_u]\n",
    "for i in range(20):\n",
    "    new_wt_u = wt_u(last_wt_u, d_phi, delta=10e-2, reverse_direction=False)\n",
    "    if not identification_occurres(new_wt_u):\n",
    "        piecewise_curve.append(new_wt_u)\n",
    "    else:\n",
    "        new_wt_u = new_wt_u % 1\n",
    "        if len(piecewise_curve) == 1:\n",
    "            piecewise_curve.append(piecewise_curve[0])\n",
    "        W_u.append(piecewise_curve)\n",
    "        piecewise_curve = [new_wt_u]\n",
    "\n",
    "    last_wt_u = new_wt_u"
   ]
  },
  {
   "cell_type": "code",
   "execution_count": null,
   "metadata": {},
   "outputs": [],
   "source": [
    "MultiLineString(W_u)"
   ]
  },
  {
   "cell_type": "code",
   "execution_count": null,
   "metadata": {},
   "outputs": [],
   "source": [
    "W_s = []\n",
    "last_wt_s = fixed_point\n",
    "piecewise_curve = [last_wt_s]\n",
    "for i in range(20):\n",
    "    new_wt_s = wt_s(last_wt_s, d_phi, delta=10e-2, reverse_direction=False)\n",
    "    if not identification_occurres(new_wt_s):\n",
    "        piecewise_curve.append(new_wt_s)\n",
    "    else:\n",
    "        new_wt_s = new_wt_s % 1\n",
    "        if len(piecewise_curve) == 1:\n",
    "            piecewise_curve.append(piecewise_curve[0])\n",
    "        W_s.append(piecewise_curve)\n",
    "        piecewise_curve = [new_wt_s]\n",
    "\n",
    "    last_wt_s = new_wt_s"
   ]
  },
  {
   "cell_type": "code",
   "execution_count": null,
   "metadata": {},
   "outputs": [],
   "source": [
    "branches = {\"W_u1\": [[fixed_point]], \"W_u2\": [[fixed_point]], \"W_s1\": [[fixed_point]], \"W_s2\": [[fixed_point]]}\n",
    "unstable_branches = [\"W_u1\", \"W_u2\"]\n",
    "stable_branches = [\"W_s1\", \"W_s2\"]\n",
    "approx_funcs = {\"W_u1\": (wt_u, True), \"W_u2\": (wt_u, False), \"W_s1\": (wt_s, True), \"W_s2\": (wt_s, False)}\n",
    "trace_branches = list(branches.keys())\n",
    "\n",
    "while len(trace_branches) > 1:\n",
    "    for branch_key in trace_branches:\n",
    "        last_wt = branches[branch_key][-1][-1]\n",
    "        approx_func, rev_dir = approx_funcs[branch_key]\n",
    "        new_wt = approx_func(last_wt, d_phi, delta=10e-4, reverse_direction=rev_dir)\n",
    "\n",
    "        if not identification_occurres(new_wt):\n",
    "            branches[branch_key][-1].append(new_wt)\n",
    "        else:\n",
    "            if len(branches[branch_key][-1]) == 1:\n",
    "                branches[branch_key][-1].append(branches[branch_key][-1][0])\n",
    "\n",
    "            new_wt = new_wt % 1\n",
    "            branches[branch_key].append([new_wt, new_wt])\n",
    "\n",
    "    for unstable_branch in unstable_branches:\n",
    "        for stable_branch in stable_branches:\n",
    "            if unstable_branch not in trace_branches or stable_branch not in trace_branches:\n",
    "                continue\n",
    "            intersection_point = MultiLineString(branches[unstable_branch]).intersection(MultiLineString(branches[stable_branch]))\n",
    "            intersection_point = intersection_point.difference(Point(Point(fixed_point)))\n",
    "            if not intersection_point.is_empty:\n",
    "                dist_unstable =np.linalg.norm(np.array(intersection_point) - branches[unstable_branch][-1][-1], ord=2)\n",
    "                dist_stable =np.linalg.norm(np.array(intersection_point) - branches[stable_branch][-1][-1], ord=2)\n",
    "                latter_branch = unstable_branch if dist_unstable < dist_stable else stable_branch\n",
    "                print(f\"Stop {latter_branch} at {intersection_point}.\")\n",
    "                trace_branches.remove(latter_branch)"
   ]
  },
  {
   "cell_type": "code",
   "execution_count": null,
   "metadata": {},
   "outputs": [],
   "source": [
    "unit_square = np.array([[0,0],[0,1],[1,1],[1,0], [0,0]])\n",
    "plt.plot(unit_square[:, 0], unit_square[:, 1], \"r-\")\n",
    "\n",
    "for branch in branches.keys():\n",
    "    for line in MultiLineString(branches[branch]):\n",
    "        plt.plot(np.array(line.coords[:])[:, 0], np.array(line.coords[:])[:, 1], \"b-\")"
   ]
  },
  {
   "cell_type": "markdown",
   "metadata": {},
   "source": [
    "## Build nonlinear example"
   ]
  },
  {
   "cell_type": "code",
   "execution_count": null,
   "metadata": {},
   "outputs": [],
   "source": [
    "A = np.array([[1,1], [1,2]])\n",
    "default_eps = 0.7\n",
    "default_delta = 10e-3"
   ]
  },
  {
   "cell_type": "code",
   "execution_count": null,
   "metadata": {},
   "outputs": [],
   "source": [
    "def phi(x: np.array, eps: float=default_eps) -> np.array:\n",
    "    return (np.dot(A, x) + np.array([eps*np.cos(x[0]), 2*eps*np.cos(x[0])])) % (2*np.pi)"
   ]
  },
  {
   "cell_type": "code",
   "execution_count": null,
   "metadata": {},
   "outputs": [],
   "source": [
    "def identification_occurres(x: np.array) -> bool:\n",
    "    x_identified = x % (2*np.pi)\n",
    "    return not np.allclose(x, x_identified, atol=10e-5)"
   ]
  },
  {
   "cell_type": "code",
   "execution_count": null,
   "metadata": {},
   "outputs": [],
   "source": [
    "def d_phi(x: np.array, eps: float=default_eps) -> np.array:\n",
    "    x12, x22 = A[1]\n",
    "    x11 = A[0,0] - eps*np.sin(x[0])\n",
    "    x21 = A[1,0] - 2*eps*np.sin(x[0])\n",
    "    return np.array([[x11, x12], [x21, x22]])"
   ]
  },
  {
   "cell_type": "code",
   "execution_count": null,
   "metadata": {},
   "outputs": [],
   "source": [
    "# reformulate fixed point problem phi(x) = x as root finding problem phi(x)-x = 0\n",
    "def objective_func(x: np.array, eps: float=default_eps) -> np.array:\n",
    "    return (np.dot(A, x) + np.array([eps*np.cos(x[0]), 2*eps*np.cos(x[0])])) - x "
   ]
  },
  {
   "cell_type": "code",
   "execution_count": null,
   "metadata": {},
   "outputs": [],
   "source": [
    "# function that calculates jacobian of objective function\n",
    "def jac(x: np.array, eps: float=default_eps) -> np.array:\n",
    "    d = A.copy()\n",
    "    d[:, 0] = d[:, 0] - np.array([eps*np.sin(x[0]), 2*eps*np.sin(x[0])])\n",
    "    return d - np.identity(n=2)"
   ]
  },
  {
   "cell_type": "code",
   "execution_count": null,
   "metadata": {},
   "outputs": [],
   "source": [
    "fixed_point = compute_fixed_point(objective_func, jac, np.array([5,5])) % (2*np.pi)\n",
    "fixed_point"
   ]
  },
  {
   "cell_type": "code",
   "execution_count": null,
   "metadata": {},
   "outputs": [],
   "source": [
    "np.allclose(fixed_point, phi(fixed_point), atol=10e-8)"
   ]
  },
  {
   "cell_type": "code",
   "execution_count": null,
   "metadata": {},
   "outputs": [],
   "source": [
    "fixed_point_is_hyperbolic(fixed_point, d_phi)"
   ]
  },
  {
   "cell_type": "code",
   "execution_count": null,
   "metadata": {},
   "outputs": [],
   "source": [
    "branches = {\"W_u1\": [[fixed_point]], \"W_u2\": [[fixed_point]], \"W_s1\": [[fixed_point]], \"W_s2\": [[fixed_point]]}\n",
    "unstable_branches = [\"W_u1\", \"W_u2\"]\n",
    "stable_branches = [\"W_s1\", \"W_s2\"]\n",
    "approx_funcs = {\"W_u1\": (wt_u, True), \"W_u2\": (wt_u, False), \"W_s1\": (wt_s, True), \"W_s2\": (wt_s, False)}\n",
    "trace_branches = list(branches.keys())\n",
    "intersection_points = []\n",
    "\n",
    "while len(trace_branches) > 1:\n",
    "    for branch_key in trace_branches:\n",
    "        last_wt = branches[branch_key][-1][-1]\n",
    "        approx_func, rev_dir = approx_funcs[branch_key]\n",
    "        new_wt = approx_func(last_wt, d_phi, delta=default_delta, reverse_direction=rev_dir)\n",
    "\n",
    "        if not identification_occurres(new_wt):\n",
    "            branches[branch_key][-1].append(new_wt)\n",
    "        else:\n",
    "            if len(branches[branch_key][-1]) == 1:\n",
    "                branches[branch_key][-1].append(branches[branch_key][-1][0])\n",
    "\n",
    "            new_wt = new_wt % (2*np.pi)\n",
    "            branches[branch_key].append([new_wt, new_wt])\n",
    "\n",
    "    for unstable_branch in unstable_branches:\n",
    "        for stable_branch in stable_branches:\n",
    "            if unstable_branch not in trace_branches or stable_branch not in trace_branches:\n",
    "                continue\n",
    "            intersection_point = MultiLineString(branches[unstable_branch]).intersection(MultiLineString(branches[stable_branch]))\n",
    "            intersection_point = intersection_point.difference(Point(Point(fixed_point)))\n",
    "            if not intersection_point.is_empty:\n",
    "                dist_unstable =np.linalg.norm(np.array(intersection_point) - branches[unstable_branch][-1][-1], ord=2)\n",
    "                dist_stable =np.linalg.norm(np.array(intersection_point) - branches[stable_branch][-1][-1], ord=2)\n",
    "                latter_branch = unstable_branch if dist_unstable < dist_stable else stable_branch\n",
    "                print(f\"Stop {latter_branch} at {intersection_point}.\")\n",
    "                intersection_points.append(np.array(intersection_point.coords[:])[0])\n",
    "                trace_branches.remove(latter_branch)"
   ]
  },
  {
   "cell_type": "code",
   "execution_count": null,
   "metadata": {},
   "outputs": [],
   "source": [
    "unit_square = np.array([[0,0],[0,2*np.pi],[2*np.pi,2*np.pi],[2*np.pi,0], [0,0]])\n",
    "plt.plot(unit_square[:, 0], unit_square[:, 1], \"r-\")\n",
    "\n",
    "intersection_points = np.array(intersection_points)\n",
    "plt.plot(intersection_points[:, 0], intersection_points[:, 1], \"go\")\n",
    "\n",
    "for branch in branches.keys():\n",
    "    for line in MultiLineString(branches[branch]):\n",
    "        plt.plot(np.array(line.coords[:])[:, 0], np.array(line.coords[:])[:, 1], \"b-\")"
   ]
  }
 ],
 "metadata": {
  "kernelspec": {
   "display_name": "Python 3",
   "language": "python",
   "name": "python3"
  },
  "language_info": {
   "codemirror_mode": {
    "name": "ipython",
    "version": 3
   },
   "file_extension": ".py",
   "mimetype": "text/x-python",
   "name": "python",
   "nbconvert_exporter": "python",
   "pygments_lexer": "ipython3",
   "version": "3.7.3"
  }
 },
 "nbformat": 4,
 "nbformat_minor": 2
}
